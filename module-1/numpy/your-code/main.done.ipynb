{
 "cells": [
  {
   "cell_type": "markdown",
   "metadata": {},
   "source": [
    "# Introduction to NumPy\n",
    "\n",
    "\n",
    "#### 1. Import NumPy under the name np."
   ]
  },
  {
   "cell_type": "code",
   "execution_count": 47,
   "metadata": {},
   "outputs": [],
   "source": [
    "import numpy as np"
   ]
  },
  {
   "cell_type": "markdown",
   "metadata": {},
   "source": [
    "#### 2. Print your NumPy version."
   ]
  },
  {
   "cell_type": "code",
   "execution_count": 48,
   "metadata": {},
   "outputs": [
    {
     "name": "stdout",
     "output_type": "stream",
     "text": [
      "1.21.5\n"
     ]
    }
   ],
   "source": [
    "print(np.__version__)"
   ]
  },
  {
   "cell_type": "markdown",
   "metadata": {},
   "source": [
    "#### 3. Generate a 2x3x5 3-dimensional array with random values. Assign the array to variable *a*.\n",
    "**Challenge**: there are at least three easy ways that use numpy to generate random arrays. How many ways can you find?"
   ]
  },
  {
   "cell_type": "code",
   "execution_count": 63,
   "metadata": {},
   "outputs": [],
   "source": [
    "a = np.random.rand(2, 3, 5)"
   ]
  },
  {
   "cell_type": "code",
   "execution_count": 119,
   "metadata": {},
   "outputs": [],
   "source": [
    "a = np.random.rand(2, 3, 5)"
   ]
  },
  {
   "cell_type": "code",
   "execution_count": 117,
   "metadata": {},
   "outputs": [],
   "source": [
    "a = np.random.choice([500], size=(2, 3, 5))"
   ]
  },
  {
   "cell_type": "markdown",
   "metadata": {},
   "source": [
    "#### 4. Print *a*.\n"
   ]
  },
  {
   "cell_type": "code",
   "execution_count": 120,
   "metadata": {},
   "outputs": [
    {
     "data": {
      "text/plain": [
       "array([[[0.040753  , 0.39007565, 0.85560864, 0.60810123, 0.09044812],\n",
       "        [0.32349095, 0.47783751, 0.65895786, 0.30770757, 0.05138109],\n",
       "        [0.27640582, 0.93053493, 0.97027188, 0.89137871, 0.72843804]],\n",
       "\n",
       "       [[0.45808271, 0.07779267, 0.104646  , 0.44444666, 0.22097269],\n",
       "        [0.63930843, 0.45317695, 0.43388517, 0.23031549, 0.77452618],\n",
       "        [0.42363885, 0.56180577, 0.27523413, 0.34850132, 0.24997353]]])"
      ]
     },
     "execution_count": 120,
     "metadata": {},
     "output_type": "execute_result"
    }
   ],
   "source": [
    "a"
   ]
  },
  {
   "cell_type": "markdown",
   "metadata": {},
   "source": [
    "#### 5. Create a 5x2x3 3-dimensional array with all values equaling 1. Assign the array to variable *b*."
   ]
  },
  {
   "cell_type": "code",
   "execution_count": 121,
   "metadata": {},
   "outputs": [],
   "source": [
    "b = np.ones((5, 3, 2))"
   ]
  },
  {
   "cell_type": "markdown",
   "metadata": {},
   "source": [
    "#### 6. Print *b*.\n"
   ]
  },
  {
   "cell_type": "code",
   "execution_count": 122,
   "metadata": {},
   "outputs": [
    {
     "data": {
      "text/plain": [
       "array([[[1., 1.],\n",
       "        [1., 1.],\n",
       "        [1., 1.]],\n",
       "\n",
       "       [[1., 1.],\n",
       "        [1., 1.],\n",
       "        [1., 1.]],\n",
       "\n",
       "       [[1., 1.],\n",
       "        [1., 1.],\n",
       "        [1., 1.]],\n",
       "\n",
       "       [[1., 1.],\n",
       "        [1., 1.],\n",
       "        [1., 1.]],\n",
       "\n",
       "       [[1., 1.],\n",
       "        [1., 1.],\n",
       "        [1., 1.]]])"
      ]
     },
     "execution_count": 122,
     "metadata": {},
     "output_type": "execute_result"
    }
   ],
   "source": [
    "b"
   ]
  },
  {
   "cell_type": "markdown",
   "metadata": {},
   "source": [
    "#### 7. Do *a* and *b* have the same size? How do you prove that in Python code?"
   ]
  },
  {
   "cell_type": "code",
   "execution_count": 123,
   "metadata": {},
   "outputs": [
    {
     "data": {
      "text/plain": [
       "True"
      ]
     },
     "execution_count": 123,
     "metadata": {},
     "output_type": "execute_result"
    }
   ],
   "source": [
    "a.size == b.size"
   ]
  },
  {
   "cell_type": "markdown",
   "metadata": {},
   "source": [
    "#### 8. Are you able to add *a* and *b*? Why or why not?\n"
   ]
  },
  {
   "cell_type": "code",
   "execution_count": 124,
   "metadata": {},
   "outputs": [
    {
     "ename": "ValueError",
     "evalue": "operands could not be broadcast together with shapes (2,3,5) (5,3,2) ",
     "output_type": "error",
     "traceback": [
      "\u001b[0;31m---------------------------------------------------------------------------\u001b[0m",
      "\u001b[0;31mValueError\u001b[0m                                Traceback (most recent call last)",
      "Cell \u001b[0;32mIn[124], line 1\u001b[0m\n\u001b[0;32m----> 1\u001b[0m \u001b[43ma\u001b[49m\u001b[43m \u001b[49m\u001b[38;5;241;43m+\u001b[39;49m\u001b[43m \u001b[49m\u001b[43mb\u001b[49m\n",
      "\u001b[0;31mValueError\u001b[0m: operands could not be broadcast together with shapes (2,3,5) (5,3,2) "
     ]
    }
   ],
   "source": [
    "a + b"
   ]
  },
  {
   "cell_type": "markdown",
   "metadata": {},
   "source": [
    "#### 9. Transpose *b* so that it has the same structure of *a* (i.e. become a 2x3x5 array). Assign the transposed array to variable *c*."
   ]
  },
  {
   "cell_type": "code",
   "execution_count": 125,
   "metadata": {},
   "outputs": [
    {
     "name": "stdout",
     "output_type": "stream",
     "text": [
      "[[[1. 1. 1. 1. 1.]\n",
      "  [1. 1. 1. 1. 1.]\n",
      "  [1. 1. 1. 1. 1.]]\n",
      "\n",
      " [[1. 1. 1. 1. 1.]\n",
      "  [1. 1. 1. 1. 1.]\n",
      "  [1. 1. 1. 1. 1.]]]\n"
     ]
    }
   ],
   "source": [
    "c = b.transpose()\n",
    "np.shape(c)\n",
    "\n",
    "print(c)"
   ]
  },
  {
   "cell_type": "markdown",
   "metadata": {},
   "source": [
    "#### 10. Try to add *a* and *c*. Now it should work. Assign the sum to variable *d*. But why does it work now?"
   ]
  },
  {
   "cell_type": "code",
   "execution_count": 126,
   "metadata": {},
   "outputs": [
    {
     "data": {
      "text/plain": [
       "array([[[1.040753  , 1.39007565, 1.85560864, 1.60810123, 1.09044812],\n",
       "        [1.32349095, 1.47783751, 1.65895786, 1.30770757, 1.05138109],\n",
       "        [1.27640582, 1.93053493, 1.97027188, 1.89137871, 1.72843804]],\n",
       "\n",
       "       [[1.45808271, 1.07779267, 1.104646  , 1.44444666, 1.22097269],\n",
       "        [1.63930843, 1.45317695, 1.43388517, 1.23031549, 1.77452618],\n",
       "        [1.42363885, 1.56180577, 1.27523413, 1.34850132, 1.24997353]]])"
      ]
     },
     "execution_count": 126,
     "metadata": {},
     "output_type": "execute_result"
    }
   ],
   "source": [
    "d = a + c\n",
    "\n",
    "d"
   ]
  },
  {
   "cell_type": "markdown",
   "metadata": {},
   "source": [
    "#### 11. Print *a* and *d*. Notice the difference and relation of the two array in terms of the values? Explain."
   ]
  },
  {
   "cell_type": "code",
   "execution_count": 127,
   "metadata": {},
   "outputs": [
    {
     "name": "stdout",
     "output_type": "stream",
     "text": [
      "[[[0.040753   0.39007565 0.85560864 0.60810123 0.09044812]\n",
      "  [0.32349095 0.47783751 0.65895786 0.30770757 0.05138109]\n",
      "  [0.27640582 0.93053493 0.97027188 0.89137871 0.72843804]]\n",
      "\n",
      " [[0.45808271 0.07779267 0.104646   0.44444666 0.22097269]\n",
      "  [0.63930843 0.45317695 0.43388517 0.23031549 0.77452618]\n",
      "  [0.42363885 0.56180577 0.27523413 0.34850132 0.24997353]]]\n",
      "[[[1.040753   1.39007565 1.85560864 1.60810123 1.09044812]\n",
      "  [1.32349095 1.47783751 1.65895786 1.30770757 1.05138109]\n",
      "  [1.27640582 1.93053493 1.97027188 1.89137871 1.72843804]]\n",
      "\n",
      " [[1.45808271 1.07779267 1.104646   1.44444666 1.22097269]\n",
      "  [1.63930843 1.45317695 1.43388517 1.23031549 1.77452618]\n",
      "  [1.42363885 1.56180577 1.27523413 1.34850132 1.24997353]]]\n"
     ]
    }
   ],
   "source": [
    "print(a)\n",
    "\n",
    "print(d)\n",
    "\n",
    "#When you add a + d both arrays are combined having as a result the ones (1) added to the 500"
   ]
  },
  {
   "cell_type": "markdown",
   "metadata": {},
   "source": [
    "#### 12. Multiply *a* and *c*. Assign the result to *e*."
   ]
  },
  {
   "cell_type": "code",
   "execution_count": 128,
   "metadata": {},
   "outputs": [
    {
     "name": "stdout",
     "output_type": "stream",
     "text": [
      "[[[0.040753   0.39007565 0.85560864 0.60810123 0.09044812]\n",
      "  [0.32349095 0.47783751 0.65895786 0.30770757 0.05138109]\n",
      "  [0.27640582 0.93053493 0.97027188 0.89137871 0.72843804]]\n",
      "\n",
      " [[0.45808271 0.07779267 0.104646   0.44444666 0.22097269]\n",
      "  [0.63930843 0.45317695 0.43388517 0.23031549 0.77452618]\n",
      "  [0.42363885 0.56180577 0.27523413 0.34850132 0.24997353]]]\n"
     ]
    }
   ],
   "source": [
    "e = a * c\n",
    "\n",
    "print(e)"
   ]
  },
  {
   "cell_type": "markdown",
   "metadata": {},
   "source": [
    "#### 13. Does *e* equal to *a*? Why or why not?\n"
   ]
  },
  {
   "cell_type": "code",
   "execution_count": 129,
   "metadata": {},
   "outputs": [
    {
     "data": {
      "text/plain": [
       "array([[[ True,  True,  True,  True,  True],\n",
       "        [ True,  True,  True,  True,  True],\n",
       "        [ True,  True,  True,  True,  True]],\n",
       "\n",
       "       [[ True,  True,  True,  True,  True],\n",
       "        [ True,  True,  True,  True,  True],\n",
       "        [ True,  True,  True,  True,  True]]])"
      ]
     },
     "execution_count": 129,
     "metadata": {},
     "output_type": "execute_result"
    }
   ],
   "source": [
    "e == a\n",
    "\n",
    "#If you multiply a * c you will multiply 500 for each 1, so the result will be 500, having as a result the same array e"
   ]
  },
  {
   "cell_type": "markdown",
   "metadata": {},
   "source": [
    "#### 14. Identify the max, min, and mean values in *d*. Assign those values to variables *d_max*, *d_min* and *d_mean*."
   ]
  },
  {
   "cell_type": "code",
   "execution_count": 136,
   "metadata": {},
   "outputs": [
    {
     "name": "stdout",
     "output_type": "stream",
     "text": [
      "1.9702718806022483\n",
      "1.0407530000151284\n",
      "1.4432565854183357\n"
     ]
    }
   ],
   "source": [
    "d_max = np.max(d)\n",
    "d_min = np.min(d)\n",
    "d_mean = np.mean(d)\n",
    "\n",
    "print(d_max)\n",
    "print(d_min)\n",
    "print(d_mean)"
   ]
  },
  {
   "cell_type": "markdown",
   "metadata": {},
   "source": [
    "#### 15. Now we want to label the values in *d*. First create an empty array *f* with the same shape (i.e. 2x3x5) as *d* using `np.empty`.\n"
   ]
  },
  {
   "cell_type": "code",
   "execution_count": 137,
   "metadata": {},
   "outputs": [
    {
     "data": {
      "text/plain": [
       "array([[[0.040753  , 0.39007565, 0.85560864, 0.60810123, 0.09044812],\n",
       "        [0.32349095, 0.47783751, 0.65895786, 0.30770757, 0.05138109],\n",
       "        [0.27640582, 0.93053493, 0.97027188, 0.89137871, 0.72843804]],\n",
       "\n",
       "       [[0.45808271, 0.07779267, 0.104646  , 0.44444666, 0.22097269],\n",
       "        [0.63930843, 0.45317695, 0.43388517, 0.23031549, 0.77452618],\n",
       "        [0.42363885, 0.56180577, 0.27523413, 0.34850132, 0.24997353]]])"
      ]
     },
     "execution_count": 137,
     "metadata": {},
     "output_type": "execute_result"
    }
   ],
   "source": [
    "f = np.empty([2, 3, 5])\n",
    "f"
   ]
  },
  {
   "cell_type": "markdown",
   "metadata": {},
   "source": [
    "#### 16. Populate the values in *f*. \n",
    "\n",
    "For each value in *d*, if it's larger than *d_min* but smaller than *d_mean*, assign 25 to the corresponding value in *f*. If a value in *d* is larger than *d_mean* but smaller than *d_max*, assign 75 to the corresponding value in *f*. If a value equals to *d_mean*, assign 50 to the corresponding value in *f*. Assign 0 to the corresponding value(s) in *f* for *d_min* in *d*. Assign 100 to the corresponding value(s) in *f* for *d_max* in *d*. In the end, f should have only the following values: 0, 25, 50, 75, and 100.\n",
    "\n",
    "**Note**: you don't have to use Numpy in this question."
   ]
  },
  {
   "cell_type": "code",
   "execution_count": 182,
   "metadata": {},
   "outputs": [],
   "source": [
    "list_f = []\n",
    "\n",
    "for values in d:\n",
    "    for i in x:\n",
    "        for z in y:\n",
    "            if z == d_mean:\n",
    "                list_f.append(50)\n",
    "            elif z == d_min:\n",
    "                list_f.append(0)\n",
    "            elif z == d_max:\n",
    "                list_f.append(100)\n",
    "            elif z < d_mean:\n",
    "                list_f.append(25)\n",
    "            elif z > d_mean:\n",
    "                list_f.append(75) \n",
    "                \n",
    "f_array = np.array(list_f)"
   ]
  },
  {
   "cell_type": "markdown",
   "metadata": {},
   "source": [
    "#### 17. Print *d* and *f*. Do you have your expected *f*?\n",
    "For instance, if your *d* is:\n",
    "```python\n",
    "[[[1.85836099, 1.67064465, 1.62576044, 1.40243961, 1.88454931],\n",
    "[1.75354326, 1.69403643, 1.36729252, 1.61415071, 1.12104981],\n",
    "[1.72201435, 1.1862918 , 1.87078449, 1.7726778 , 1.88180042]],\n",
    "[[1.44747908, 1.31673383, 1.02000951, 1.52218947, 1.97066381],\n",
    "[1.79129243, 1.74983003, 1.96028037, 1.85166831, 1.65450881],\n",
    "[1.18068344, 1.9587381 , 1.00656599, 1.93402165, 1.73514584]]]\n",
    "```\n",
    "Your *f* should be:\n",
    "```python\n",
    "[[[ 75.,  75.,  75.,  25.,  75.],\n",
    "[ 75.,  75.,  25.,  25.,  25.],\n",
    "[ 75.,  25.,  75.,  75.,  75.]],\n",
    "[[ 25.,  25.,  25.,  25., 100.],\n",
    "[ 75.,  75.,  75.,  75.,  75.],\n",
    "[ 25.,  75.,   0.,  75.,  75.]]]\n",
    "```"
   ]
  },
  {
   "cell_type": "code",
   "execution_count": 184,
   "metadata": {},
   "outputs": [
    {
     "name": "stdout",
     "output_type": "stream",
     "text": [
      "[[[1.040753   1.39007565 1.85560864 1.60810123 1.09044812]\n",
      "  [1.32349095 1.47783751 1.65895786 1.30770757 1.05138109]\n",
      "  [1.27640582 1.93053493 1.97027188 1.89137871 1.72843804]]\n",
      "\n",
      " [[1.45808271 1.07779267 1.104646   1.44444666 1.22097269]\n",
      "  [1.63930843 1.45317695 1.43388517 1.23031549 1.77452618]\n",
      "  [1.42363885 1.56180577 1.27523413 1.34850132 1.24997353]]]\n",
      "[[[25 75 25 25 25]\n",
      "  [25 75 25 25 25]\n",
      "  [25 75 25 25 25]]\n",
      "\n",
      " [[25 75 25 25 25]\n",
      "  [25 75 25 25 25]\n",
      "  [25 75 25 25 25]]]\n"
     ]
    }
   ],
   "source": [
    "print(d)\n",
    "\n",
    "print(f)\n",
    "\n",
    "#No sé que estoy haciendo mal aquí"
   ]
  },
  {
   "cell_type": "markdown",
   "metadata": {},
   "source": [
    "#### 18. Bonus question: instead of using numbers (i.e. 0, 25, 50, 75, and 100), use string values  (\"A\", \"B\", \"C\", \"D\", and \"E\") to label the array elements. For the example above, the expected result is:\n",
    "\n",
    "```python\n",
    "[[[ 'D',  'D',  'D',  'B',  'D'],\n",
    "[ 'D',  'D',  'B',  'B',  'B'],\n",
    "[ 'D',  'B',  'D',  'D',  'D']],\n",
    "[[ 'B',  'B',  'B',  'B',  'E'],\n",
    "[ 'D',  'D',  'D',  'D',  'D'],\n",
    "[ 'B',  'D',   'A',  'D', 'D']]]\n",
    "```\n",
    "**Note**: you don't have to use Numpy in this question."
   ]
  },
  {
   "cell_type": "code",
   "execution_count": 193,
   "metadata": {},
   "outputs": [
    {
     "data": {
      "text/plain": [
       "array([[['B', 'D', 'B', 'B', 'B'],\n",
       "        ['B', 'D', 'B', 'B', 'B'],\n",
       "        ['B', 'D', 'B', 'B', 'B']],\n",
       "\n",
       "       [['B', 'D', 'B', 'B', 'B'],\n",
       "        ['B', 'D', 'B', 'B', 'B'],\n",
       "        ['B', 'D', 'B', 'B', 'B']]], dtype='<U1')"
      ]
     },
     "execution_count": 193,
     "metadata": {},
     "output_type": "execute_result"
    }
   ],
   "source": [
    "herelist_f = []\n",
    "\n",
    "for values in d:\n",
    "    for i in x:\n",
    "        for z in y:\n",
    "            if z == d_mean:\n",
    "                herelist_f.append(\"C\")\n",
    "            elif z == d_min:\n",
    "                herelist_f.append(\"A\")\n",
    "            elif z == d_max:\n",
    "                herelist_f.append(\"E\")\n",
    "            elif z < d_mean:\n",
    "                herelist_f.append(\"B\")\n",
    "            elif z > d_mean:\n",
    "                herelist_f.append(\"D\") \n",
    "                \n",
    "f_array = np.array(herelist_f)\n",
    "herelist_f = f_array.reshape(2,3,5)\n",
    "\n",
    "herelist_f"
   ]
  }
 ],
 "metadata": {
  "kernelspec": {
   "display_name": "Python [conda env:m1_env]",
   "language": "python",
   "name": "conda-env-m1_env-py"
  },
  "language_info": {
   "codemirror_mode": {
    "name": "ipython",
    "version": 3
   },
   "file_extension": ".py",
   "mimetype": "text/x-python",
   "name": "python",
   "nbconvert_exporter": "python",
   "pygments_lexer": "ipython3",
   "version": "3.9.16"
  }
 },
 "nbformat": 4,
 "nbformat_minor": 2
}
