{
 "cells": [
  {
   "cell_type": "code",
   "execution_count": 1,
   "id": "166275d8",
   "metadata": {},
   "outputs": [
    {
     "name": "stdout",
     "output_type": "stream",
     "text": [
      "Please choose your first number (zero to five): two\n",
      "What do you want to do? plus or minus: plus\n",
      "Please choose your second number (zero to five): one\n"
     ]
    }
   ],
   "source": [
    "a = input('Please choose your first number (zero to five): ')\n",
    "b = input('What do you want to do? plus or minus: ')\n",
    "c = input('Please choose your second number (zero to five): ')\n",
    "\n"
   ]
  },
  {
   "cell_type": "code",
   "execution_count": 2,
   "id": "a9da2dbb",
   "metadata": {},
   "outputs": [
    {
     "name": "stdout",
     "output_type": "stream",
     "text": [
      "{'zero': 0, 'one': 1, 'two': 2, 'three': 3, 'four': 4, 'five': 5} {'plus': 1, 'minus': -1}\n"
     ]
    }
   ],
   "source": [
    "numbers = {'zero':0, 'one':1, 'two':2, 'three':3, 'four':4, 'five':5}\n",
    "\n",
    "operation = {'plus': 1, 'minus':-1}\n",
    "\n",
    "print(numbers,operation)"
   ]
  },
  {
   "cell_type": "code",
   "execution_count": 3,
   "id": "bfb1ba0a",
   "metadata": {},
   "outputs": [
    {
     "data": {
      "text/plain": [
       "2"
      ]
     },
     "execution_count": 3,
     "metadata": {},
     "output_type": "execute_result"
    }
   ],
   "source": [
    "if a in numbers.keys():\n",
    "    num1 = numbers[a]\n",
    "else: \n",
    "    print(\"I am not able to answer this question. Check your input.\")\n",
    "\n",
    "num1"
   ]
  },
  {
   "cell_type": "code",
   "execution_count": 4,
   "id": "6ee331a1",
   "metadata": {},
   "outputs": [
    {
     "data": {
      "text/plain": [
       "1"
      ]
     },
     "execution_count": 4,
     "metadata": {},
     "output_type": "execute_result"
    }
   ],
   "source": [
    "if b in operation.keys():\n",
    "    factor = operation[b]\n",
    "else:\n",
    "    print(\"I am not able to answer this question. Check your input.\")\n",
    "\n",
    "factor"
   ]
  },
  {
   "cell_type": "code",
   "execution_count": 5,
   "id": "d4a694bc",
   "metadata": {},
   "outputs": [
    {
     "data": {
      "text/plain": [
       "1"
      ]
     },
     "execution_count": 5,
     "metadata": {},
     "output_type": "execute_result"
    }
   ],
   "source": [
    "if c in numbers.keys():\n",
    "    num2 = numbers[c] * factor\n",
    "else:\n",
    "    print(\"I am not able to answer this question. Check your input.\")\n",
    "    \n",
    "num2"
   ]
  },
  {
   "cell_type": "code",
   "execution_count": 6,
   "id": "1e30e974",
   "metadata": {},
   "outputs": [
    {
     "data": {
      "text/plain": [
       "3"
      ]
     },
     "execution_count": 6,
     "metadata": {},
     "output_type": "execute_result"
    }
   ],
   "source": [
    "result = sum([num1, num2])\n",
    "result"
   ]
  },
  {
   "cell_type": "code",
   "execution_count": 7,
   "id": "86af16cf",
   "metadata": {},
   "outputs": [],
   "source": [
    "dict_result = {0:'zero', 1:'one', 2:'two', 3:'three'}"
   ]
  },
  {
   "cell_type": "code",
   "execution_count": 8,
   "id": "e66db4d1",
   "metadata": {},
   "outputs": [],
   "source": [
    "if factor < 0:\n",
    "    num_sign = 'negative '\n",
    "else:\n",
    "    num_sign = ''"
   ]
  },
  {
   "cell_type": "code",
   "execution_count": 9,
   "id": "6a135a65",
   "metadata": {},
   "outputs": [
    {
     "data": {
      "text/plain": [
       "'three'"
      ]
     },
     "execution_count": 9,
     "metadata": {},
     "output_type": "execute_result"
    }
   ],
   "source": [
    "num_result = dict_result[abs(result)]\n",
    "num_result"
   ]
  },
  {
   "cell_type": "code",
   "execution_count": 10,
   "id": "f41fd006",
   "metadata": {},
   "outputs": [
    {
     "data": {
      "text/plain": [
       "'two plus one equals three'"
      ]
     },
     "execution_count": 10,
     "metadata": {},
     "output_type": "execute_result"
    }
   ],
   "source": [
    "f'{a} {b} {c} equals {num_sign}{num_result}'"
   ]
  },
  {
   "cell_type": "code",
   "execution_count": null,
   "id": "78fbb116",
   "metadata": {},
   "outputs": [],
   "source": []
  }
 ],
 "metadata": {
  "kernelspec": {
   "display_name": "Python [conda env:.conda-m1_env]",
   "language": "python",
   "name": "conda-env-.conda-m1_env-py"
  },
  "language_info": {
   "codemirror_mode": {
    "name": "ipython",
    "version": 3
   },
   "file_extension": ".py",
   "mimetype": "text/x-python",
   "name": "python",
   "nbconvert_exporter": "python",
   "pygments_lexer": "ipython3",
   "version": "3.9.16"
  }
 },
 "nbformat": 4,
 "nbformat_minor": 5
}
