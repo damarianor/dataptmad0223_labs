{
 "cells": [
  {
   "cell_type": "markdown",
   "metadata": {},
   "source": [
    "# Web Scraping Lab\n",
    "\n",
    "You will find in this notebook some scrapy exercises to practise your scraping skills.\n",
    "\n",
    "**Tips:**\n",
    "\n",
    "- Check the response status code for each request to ensure you have obtained the intended content.\n",
    "- Print the response text in each request to understand the kind of info you are getting and its format.\n",
    "- Check for patterns in the response text to extract the data/info requested in each question.\n",
    "- Visit the urls below and take a look at their source code through Chrome DevTools. You'll need to identify the html tags, special class names, etc used in the html content you are expected to extract.\n",
    "\n",
    "**Resources**:\n",
    "- [Requests library](http://docs.python-requests.org/en/master/#the-user-guide)\n",
    "- [Beautiful Soup Doc](https://www.crummy.com/software/BeautifulSoup/bs4/doc/)\n",
    "- [Urllib](https://docs.python.org/3/library/urllib.html#module-urllib)\n",
    "- [re lib](https://docs.python.org/3/library/re.html)\n",
    "- [lxml lib](https://lxml.de/)\n",
    "- [Scrapy](https://scrapy.org/)\n",
    "- [List of HTTP status codes](https://en.wikipedia.org/wiki/List_of_HTTP_status_codes)\n",
    "- [HTML basics](http://www.simplehtmlguide.com/cheatsheet.php)\n",
    "- [CSS basics](https://www.cssbasics.com/#page_start)"
   ]
  },
  {
   "cell_type": "markdown",
   "metadata": {},
   "source": [
    "#### Below are the libraries and modules you may need. `requests`,  `BeautifulSoup` and `pandas` are already imported for you. If you prefer to use additional libraries feel free to do it."
   ]
  },
  {
   "cell_type": "code",
   "execution_count": 8,
   "metadata": {},
   "outputs": [],
   "source": [
    "import requests\n",
    "import bs4\n",
    "import pandas as pd\n",
    "import re\n"
   ]
  },
  {
   "cell_type": "code",
   "execution_count": 9,
   "metadata": {},
   "outputs": [],
   "source": [
    "from bs4 import BeautifulSoup"
   ]
  },
  {
   "cell_type": "markdown",
   "metadata": {},
   "source": [
    "#### Download, parse (using BeautifulSoup), and print the content from the Trending Developers page from GitHub:"
   ]
  },
  {
   "cell_type": "code",
   "execution_count": 10,
   "metadata": {},
   "outputs": [],
   "source": [
    "# This is the url you will scrape in this exercise\n",
    "url = 'https://github.com/trending/developers'"
   ]
  },
  {
   "cell_type": "code",
   "execution_count": 11,
   "metadata": {},
   "outputs": [
    {
     "data": {
      "text/plain": [
       "{'user-agent': 'Mozilla/5.0 (Windows NT 6.1; Win64; x64; rv:47.0) Gecko/20100101 Firefox/47.0'}"
      ]
     },
     "execution_count": 11,
     "metadata": {},
     "output_type": "execute_result"
    }
   ],
   "source": [
    "headers = {'user-agent': 'Mozilla/5.0 (Windows NT 6.1; Win64; x64; rv:47.0) Gecko/20100101 Firefox/47.0'}\n",
    "headers"
   ]
  },
  {
   "cell_type": "code",
   "execution_count": 12,
   "metadata": {},
   "outputs": [
    {
     "data": {
      "text/plain": [
       "<Response [200]>"
      ]
     },
     "execution_count": 12,
     "metadata": {},
     "output_type": "execute_result"
    }
   ],
   "source": [
    "response = requests.get(url,\n",
    "                        headers=headers)\n",
    "response"
   ]
  },
  {
   "cell_type": "code",
   "execution_count": 13,
   "metadata": {},
   "outputs": [],
   "source": [
    "html = response.content\n",
    "parsed_html = bs4.BeautifulSoup(html, \"html.parser\") \n"
   ]
  },
  {
   "cell_type": "markdown",
   "metadata": {},
   "source": [
    "#### Display the names of the trending developers retrieved in the previous step.\n",
    "\n",
    "Your output should be a Python list of developer names. Each name should not contain any html tag.\n",
    "\n",
    "**Instructions:**\n",
    "\n",
    "1. Find out the html tag and class names used for the developer names. You can achieve this using Chrome DevTools.\n",
    "\n",
    "1. Use BeautifulSoup to extract all the html elements that contain the developer names.\n",
    "\n",
    "1. Use string manipulation techniques to replace whitespaces and linebreaks (i.e. `\\n`) in the *text* of each html element. Use a list to store the clean names.\n",
    "\n",
    "1. Print the list of names.\n",
    "\n",
    "Your output should look like below:\n",
    "\n",
    "```\n",
    "['trimstray (@trimstray)',\n",
    " 'joewalnes (JoeWalnes)',\n",
    " 'charlax (Charles-AxelDein)',\n",
    " 'ForrestKnight (ForrestKnight)',\n",
    " 'revery-ui (revery-ui)',\n",
    " 'alibaba (Alibaba)',\n",
    " 'Microsoft (Microsoft)',\n",
    " 'github (GitHub)',\n",
    " 'facebook (Facebook)',\n",
    " 'boazsegev (Bo)',\n",
    " 'google (Google)',\n",
    " 'cloudfetch',\n",
    " 'sindresorhus (SindreSorhus)',\n",
    " 'tensorflow',\n",
    " 'apache (TheApacheSoftwareFoundation)',\n",
    " 'DevonCrawford (DevonCrawford)',\n",
    " 'ARMmbed (ArmMbed)',\n",
    " 'vuejs (vuejs)',\n",
    " 'fastai (fast.ai)',\n",
    " 'QiShaoXuan (Qi)',\n",
    " 'joelparkerhenderson (JoelParkerHenderson)',\n",
    " 'torvalds (LinusTorvalds)',\n",
    " 'CyC2018',\n",
    " 'komeiji-satori (神楽坂覚々)',\n",
    " 'script-8']\n",
    " ```"
   ]
  },
  {
   "cell_type": "code",
   "execution_count": 18,
   "metadata": {},
   "outputs": [
    {
     "name": "stdout",
     "output_type": "stream",
     "text": [
      "<class 'list'> \n",
      "\n",
      "['h3', 'details-menu', 'head', 'span', 'circle', 'script', 'article', 'details-dialog', 'div', 'header', 'p', 'html', 'h2', 'clipboard-copy', 'img', 'link', 'g-emoji', 'template', 'footer', 'svg', 'input', 'label', 'h1', 'meta', 'include-fragment', 'filter-input', 'path', 'a', 'li', 'main', 'nav', 'ul', 'summary', 'details', 'title', 'button', 'form', 'body']\n"
     ]
    }
   ],
   "source": [
    "parsed_tags = list(set([tag.name for tag in parsed_html.find_all(True)]))\n",
    "print(type(parsed_tags), '\\n')\n",
    "print(parsed_tags)"
   ]
  },
  {
   "cell_type": "code",
   "execution_count": 19,
   "metadata": {},
   "outputs": [],
   "source": [
    "trending_developers = parsed_html.find_all(\"a\", {\"data-hydro-click\" : re.compile('\"TRENDING_DEVELOPER\"')})\n"
   ]
  },
  {
   "cell_type": "code",
   "execution_count": 20,
   "metadata": {},
   "outputs": [
    {
     "data": {
      "text/plain": [
       "['pilcrowOnPaper',\n",
       " 'Yifei Zhang',\n",
       " 'Yidadaa',\n",
       " 'Jarred Sumner',\n",
       " 'Jarred-Sumner',\n",
       " 'Daniel Vaz Gaspar',\n",
       " 'dpgaspar',\n",
       " 'dkhamsing',\n",
       " 'oobabooga',\n",
       " 'bmaltais',\n",
       " 'J. Nick Koston',\n",
       " 'bdraco',\n",
       " 'DaniPopes',\n",
       " 'lijianan',\n",
       " 'li-jia-nan',\n",
       " 'Adrienne Walker',\n",
       " 'quisquous',\n",
       " 'Dessalines',\n",
       " 'dessalines',\n",
       " 'Etienne BAUDOUX',\n",
       " 'No Name',\n",
       " 'veler',\n",
       " 'No Name',\n",
       " 'fengmk2',\n",
       " 'fengmk2',\n",
       " 'Bob Nystrom',\n",
       " 'No Name',\n",
       " 'munificent',\n",
       " 'Ismail Pelaseyed',\n",
       " 'homanp',\n",
       " 'Henrik Rydgård',\n",
       " 'hrydgard',\n",
       " 'Thibault Duplessis',\n",
       " 'ornicar',\n",
       " 'Harrison Chase',\n",
       " 'hwchase17',\n",
       " 'Alex Gaynor',\n",
       " 'alex',\n",
       " 'Jack Lloyd',\n",
       " 'randombit',\n",
       " 'Alexey Milovidov',\n",
       " 'alexey-milovidov',\n",
       " 'Lianmin Zheng',\n",
       " 'merrymercy',\n",
       " 'rootmelo92118',\n",
       " 'Connor Tumbleson',\n",
       " 'iBotPeaches']"
      ]
     },
     "execution_count": 20,
     "metadata": {},
     "output_type": "execute_result"
    }
   ],
   "source": [
    "trending_developers = parsed_html.find_all(\"a\", {\"data-hydro-click\" : re.compile('\"TRENDING_DEVELOPER\"')})\n",
    "#trending_developers\n",
    "names = [tag.string.strip() for tag in trending_developers if tag.string != None]\n",
    "names.insert(20, \"No Name\")\n",
    "names.insert(22, \"No Name\")\n",
    "names.insert(26, \"No Name\")\n",
    "names"
   ]
  },
  {
   "cell_type": "code",
   "execution_count": 21,
   "metadata": {},
   "outputs": [
    {
     "name": "stdout",
     "output_type": "stream",
     "text": [
      "['Yifei Zhang', 'Jarred Sumner', 'Daniel Vaz Gaspar', 'J. Nick Koston', 'Adrienne Walker', 'Etienne BAUDOUX', 'No Name', 'No Name', 'Bob Nystrom', 'No Name', 'Ismail Pelaseyed', 'Henrik Rydgård', 'Thibault Duplessis', 'Harrison Chase', 'Alex Gaynor', 'Jack Lloyd', 'Alexey Milovidov', 'Lianmin Zheng', 'Connor Tumbleson']\n",
      "['(pilcrowOnPaper)', '(Yidadaa)', '(Jarred-Sumner)', '(dpgaspar)', '(dkhamsing)', '(oobabooga)', '(bmaltais)', '(bdraco)', '(DaniPopes)', '(lijianan)', '(li-jia-nan)', '(quisquous)', '(Dessalines)', '(dessalines)', '(veler)', '(fengmk2)', '(fengmk2)', '(munificent)', '(homanp)', '(hrydgard)', '(ornicar)', '(hwchase17)', '(alex)', '(randombit)', '(alexey-milovidov)', '(merrymercy)', '(rootmelo92118)', '(iBotPeaches)']\n"
     ]
    }
   ],
   "source": [
    "\n",
    "names2 = [f'{x}' for x in names if ' ' in x]\n",
    "users = [f'({x})' for x in names if ' ' not in x]\n",
    "print(names2)\n",
    "print(users)"
   ]
  },
  {
   "cell_type": "code",
   "execution_count": 22,
   "metadata": {},
   "outputs": [
    {
     "data": {
      "text/html": [
       "<div>\n",
       "<style scoped>\n",
       "    .dataframe tbody tr th:only-of-type {\n",
       "        vertical-align: middle;\n",
       "    }\n",
       "\n",
       "    .dataframe tbody tr th {\n",
       "        vertical-align: top;\n",
       "    }\n",
       "\n",
       "    .dataframe thead th {\n",
       "        text-align: right;\n",
       "    }\n",
       "</style>\n",
       "<table border=\"1\" class=\"dataframe\">\n",
       "  <thead>\n",
       "    <tr style=\"text-align: right;\">\n",
       "      <th></th>\n",
       "      <th>names</th>\n",
       "    </tr>\n",
       "  </thead>\n",
       "  <tbody>\n",
       "    <tr>\n",
       "      <th>0</th>\n",
       "      <td>Yifei Zhang (pilcrowOnPaper)</td>\n",
       "    </tr>\n",
       "    <tr>\n",
       "      <th>1</th>\n",
       "      <td>Jarred Sumner (Yidadaa)</td>\n",
       "    </tr>\n",
       "    <tr>\n",
       "      <th>2</th>\n",
       "      <td>Daniel Vaz Gaspar (Jarred-Sumner)</td>\n",
       "    </tr>\n",
       "    <tr>\n",
       "      <th>3</th>\n",
       "      <td>J. Nick Koston (dpgaspar)</td>\n",
       "    </tr>\n",
       "    <tr>\n",
       "      <th>4</th>\n",
       "      <td>Adrienne Walker (dkhamsing)</td>\n",
       "    </tr>\n",
       "    <tr>\n",
       "      <th>5</th>\n",
       "      <td>Etienne BAUDOUX (oobabooga)</td>\n",
       "    </tr>\n",
       "    <tr>\n",
       "      <th>6</th>\n",
       "      <td>No Name (bmaltais)</td>\n",
       "    </tr>\n",
       "    <tr>\n",
       "      <th>7</th>\n",
       "      <td>No Name (bdraco)</td>\n",
       "    </tr>\n",
       "    <tr>\n",
       "      <th>8</th>\n",
       "      <td>Bob Nystrom (DaniPopes)</td>\n",
       "    </tr>\n",
       "    <tr>\n",
       "      <th>9</th>\n",
       "      <td>No Name (lijianan)</td>\n",
       "    </tr>\n",
       "    <tr>\n",
       "      <th>10</th>\n",
       "      <td>Ismail Pelaseyed (li-jia-nan)</td>\n",
       "    </tr>\n",
       "    <tr>\n",
       "      <th>11</th>\n",
       "      <td>Henrik Rydgård (quisquous)</td>\n",
       "    </tr>\n",
       "    <tr>\n",
       "      <th>12</th>\n",
       "      <td>Thibault Duplessis (Dessalines)</td>\n",
       "    </tr>\n",
       "    <tr>\n",
       "      <th>13</th>\n",
       "      <td>Harrison Chase (dessalines)</td>\n",
       "    </tr>\n",
       "    <tr>\n",
       "      <th>14</th>\n",
       "      <td>Alex Gaynor (veler)</td>\n",
       "    </tr>\n",
       "    <tr>\n",
       "      <th>15</th>\n",
       "      <td>Jack Lloyd (fengmk2)</td>\n",
       "    </tr>\n",
       "    <tr>\n",
       "      <th>16</th>\n",
       "      <td>Alexey Milovidov (fengmk2)</td>\n",
       "    </tr>\n",
       "    <tr>\n",
       "      <th>17</th>\n",
       "      <td>Lianmin Zheng (munificent)</td>\n",
       "    </tr>\n",
       "    <tr>\n",
       "      <th>18</th>\n",
       "      <td>Connor Tumbleson (homanp)</td>\n",
       "    </tr>\n",
       "    <tr>\n",
       "      <th>19</th>\n",
       "      <td>NaN</td>\n",
       "    </tr>\n",
       "    <tr>\n",
       "      <th>20</th>\n",
       "      <td>NaN</td>\n",
       "    </tr>\n",
       "    <tr>\n",
       "      <th>21</th>\n",
       "      <td>NaN</td>\n",
       "    </tr>\n",
       "    <tr>\n",
       "      <th>22</th>\n",
       "      <td>NaN</td>\n",
       "    </tr>\n",
       "    <tr>\n",
       "      <th>23</th>\n",
       "      <td>NaN</td>\n",
       "    </tr>\n",
       "    <tr>\n",
       "      <th>24</th>\n",
       "      <td>NaN</td>\n",
       "    </tr>\n",
       "    <tr>\n",
       "      <th>25</th>\n",
       "      <td>NaN</td>\n",
       "    </tr>\n",
       "    <tr>\n",
       "      <th>26</th>\n",
       "      <td>NaN</td>\n",
       "    </tr>\n",
       "    <tr>\n",
       "      <th>27</th>\n",
       "      <td>NaN</td>\n",
       "    </tr>\n",
       "  </tbody>\n",
       "</table>\n",
       "</div>"
      ],
      "text/plain": [
       "                                names\n",
       "0        Yifei Zhang (pilcrowOnPaper)\n",
       "1             Jarred Sumner (Yidadaa)\n",
       "2   Daniel Vaz Gaspar (Jarred-Sumner)\n",
       "3           J. Nick Koston (dpgaspar)\n",
       "4         Adrienne Walker (dkhamsing)\n",
       "5         Etienne BAUDOUX (oobabooga)\n",
       "6                  No Name (bmaltais)\n",
       "7                    No Name (bdraco)\n",
       "8             Bob Nystrom (DaniPopes)\n",
       "9                  No Name (lijianan)\n",
       "10      Ismail Pelaseyed (li-jia-nan)\n",
       "11         Henrik Rydgård (quisquous)\n",
       "12    Thibault Duplessis (Dessalines)\n",
       "13        Harrison Chase (dessalines)\n",
       "14                Alex Gaynor (veler)\n",
       "15               Jack Lloyd (fengmk2)\n",
       "16         Alexey Milovidov (fengmk2)\n",
       "17         Lianmin Zheng (munificent)\n",
       "18          Connor Tumbleson (homanp)\n",
       "19                                NaN\n",
       "20                                NaN\n",
       "21                                NaN\n",
       "22                                NaN\n",
       "23                                NaN\n",
       "24                                NaN\n",
       "25                                NaN\n",
       "26                                NaN\n",
       "27                                NaN"
      ]
     },
     "execution_count": 22,
     "metadata": {},
     "output_type": "execute_result"
    }
   ],
   "source": [
    "df1 = pd.DataFrame (names2, columns = ['names'])\n",
    "df2 = pd.DataFrame (users, columns = ['names'])\n",
    "df3 = df1 + ' ' + df2\n",
    "df3"
   ]
  },
  {
   "cell_type": "code",
   "execution_count": 23,
   "metadata": {},
   "outputs": [
    {
     "data": {
      "text/plain": [
       "[['Yifei Zhang (pilcrowOnPaper)'],\n",
       " ['Jarred Sumner (Yidadaa)'],\n",
       " ['Daniel Vaz Gaspar (Jarred-Sumner)'],\n",
       " ['J. Nick Koston (dpgaspar)'],\n",
       " ['Adrienne Walker (dkhamsing)'],\n",
       " ['Etienne BAUDOUX (oobabooga)'],\n",
       " ['No Name (bmaltais)'],\n",
       " ['No Name (bdraco)'],\n",
       " ['Bob Nystrom (DaniPopes)'],\n",
       " ['No Name (lijianan)'],\n",
       " ['Ismail Pelaseyed (li-jia-nan)'],\n",
       " ['Henrik Rydgård (quisquous)'],\n",
       " ['Thibault Duplessis (Dessalines)'],\n",
       " ['Harrison Chase (dessalines)'],\n",
       " ['Alex Gaynor (veler)'],\n",
       " ['Jack Lloyd (fengmk2)'],\n",
       " ['Alexey Milovidov (fengmk2)'],\n",
       " ['Lianmin Zheng (munificent)'],\n",
       " ['Connor Tumbleson (homanp)'],\n",
       " [nan],\n",
       " [nan],\n",
       " [nan],\n",
       " [nan],\n",
       " [nan],\n",
       " [nan],\n",
       " [nan],\n",
       " [nan],\n",
       " [nan]]"
      ]
     },
     "execution_count": 23,
     "metadata": {},
     "output_type": "execute_result"
    }
   ],
   "source": [
    "names3 = df3.values.tolist()\n",
    "names3\n"
   ]
  },
  {
   "cell_type": "code",
   "execution_count": 24,
   "metadata": {},
   "outputs": [
    {
     "data": {
      "text/plain": [
       "['Yifei Zhang (pilcrowOnPaper)',\n",
       " 'Jarred Sumner (Yidadaa)',\n",
       " 'Daniel Vaz Gaspar (Jarred-Sumner)',\n",
       " 'J. Nick Koston (dpgaspar)',\n",
       " 'Adrienne Walker (dkhamsing)',\n",
       " 'Etienne BAUDOUX (oobabooga)',\n",
       " 'No Name (bmaltais)',\n",
       " 'No Name (bdraco)',\n",
       " 'Bob Nystrom (DaniPopes)',\n",
       " 'No Name (lijianan)',\n",
       " 'Ismail Pelaseyed (li-jia-nan)',\n",
       " 'Henrik Rydgård (quisquous)',\n",
       " 'Thibault Duplessis (Dessalines)',\n",
       " 'Harrison Chase (dessalines)',\n",
       " 'Alex Gaynor (veler)',\n",
       " 'Jack Lloyd (fengmk2)',\n",
       " 'Alexey Milovidov (fengmk2)',\n",
       " 'Lianmin Zheng (munificent)',\n",
       " 'Connor Tumbleson (homanp)',\n",
       " nan,\n",
       " nan,\n",
       " nan,\n",
       " nan,\n",
       " nan,\n",
       " nan,\n",
       " nan,\n",
       " nan,\n",
       " nan]"
      ]
     },
     "execution_count": 24,
     "metadata": {},
     "output_type": "execute_result"
    }
   ],
   "source": [
    "def flatten_list(_2d_list):\n",
    "    flat_list = []\n",
    "    # Iterate through the outer list\n",
    "    for element in _2d_list:\n",
    "        if type(element) is list:\n",
    "            # If the element is of type list, iterate through the sublist\n",
    "            for item in element:\n",
    "                flat_list.append(item)\n",
    "        else:\n",
    "            flat_list.append(element)\n",
    "    return flat_list\n",
    "final_names = (flatten_list(names3))\n",
    "final_names"
   ]
  },
  {
   "cell_type": "markdown",
   "metadata": {},
   "source": [
    "#### Display the trending Python repositories in GitHub.\n",
    "\n",
    "The steps to solve this problem is similar to the previous one except that you need to find out the repository names instead of developer names."
   ]
  },
  {
   "cell_type": "code",
   "execution_count": 25,
   "metadata": {},
   "outputs": [],
   "source": [
    "# This is the url you will scrape in this exercise\n",
    "url = 'https://github.com/trending/python?since=daily'"
   ]
  },
  {
   "cell_type": "code",
   "execution_count": 27,
   "metadata": {},
   "outputs": [],
   "source": [
    "headers = {'user-agent': 'Mozilla/5.0 (Windows NT 6.1; Win64; x64; rv:47.0) Gecko/20100101 Firefox/47.0'}\n",
    "headers\n",
    "response = requests.get(url, headers=headers)\n",
    "html = response.content\n",
    "parsed_html = bs4.BeautifulSoup(html, \"html.parser\") "
   ]
  },
  {
   "cell_type": "code",
   "execution_count": 28,
   "metadata": {},
   "outputs": [
    {
     "data": {
      "text/plain": [
       "[]"
      ]
     },
     "execution_count": 28,
     "metadata": {},
     "output_type": "execute_result"
    }
   ],
   "source": [
    "trending_repositories = [tag.a for tag in parsed_html.find_all('h1',{'class':['h3', 'lh-condensed']})]\n",
    "names = [tag.string for tag in trending_repositories]\n",
    "names"
   ]
  },
  {
   "cell_type": "markdown",
   "metadata": {},
   "source": [
    "#### Display all the image links from Walt Disney wikipedia page."
   ]
  },
  {
   "cell_type": "code",
   "execution_count": null,
   "metadata": {},
   "outputs": [],
   "source": [
    "# This is the url you will scrape in this exercise\n",
    "url = 'https://en.wikipedia.org/wiki/Walt_Disney'"
   ]
  },
  {
   "cell_type": "code",
   "execution_count": 29,
   "metadata": {},
   "outputs": [],
   "source": [
    "# This is the url you will scrape in this exercise\n",
    "url = 'https://en.wikipedia.org/wiki/Walt_Disney'\n",
    "\n",
    "\n",
    "headers = {'user-agent': 'Mozilla/5.0 (Windows NT 6.1; Win64; x64; rv:47.0) Gecko/20100101 Firefox/47.0'}\n",
    "response = requests.get(url,\n",
    "                        headers=headers,\n",
    "                        timeout=5)\n",
    "\n",
    "html = response.content\n",
    "parsed_html = bs4.BeautifulSoup(html, \"html.parser\") "
   ]
  },
  {
   "cell_type": "code",
   "execution_count": 30,
   "metadata": {},
   "outputs": [
    {
     "name": "stdout",
     "output_type": "stream",
     "text": [
      "https://upload.wikimedia.org/wikipedia/en/thumb/e/e7/Cscr-featured.svg/20px-Cscr-featured.svg.png\n",
      "\n",
      "https://upload.wikimedia.org/wikipedia/en/thumb/8/8c/Extended-protection-shackle.svg/20px-Extended-protection-shackle.svg.png\n",
      "\n",
      "https://upload.wikimedia.org/wikipedia/commons/thumb/d/df/Walt_Disney_1946.JPG/220px-Walt_Disney_1946.JPG\n",
      "\n",
      "https://upload.wikimedia.org/wikipedia/commons/thumb/8/87/Walt_Disney_1942_signature.svg/150px-Walt_Disney_1942_signature.svg.png\n",
      "\n",
      "https://upload.wikimedia.org/wikipedia/commons/thumb/3/3a/Walt_Disney_Birthplace_Exterior_Hermosa_Chicago_Illinois.jpg/220px-Walt_Disney_Birthplace_Exterior_Hermosa_Chicago_Illinois.jpg\n",
      "\n",
      "https://upload.wikimedia.org/wikipedia/commons/thumb/c/c4/Walt_Disney_envelope_ca._1921.jpg/220px-Walt_Disney_envelope_ca._1921.jpg\n",
      "\n",
      "https://upload.wikimedia.org/wikipedia/commons/thumb/0/0d/Trolley_Troubles_poster.jpg/170px-Trolley_Troubles_poster.jpg\n",
      "\n",
      "https://upload.wikimedia.org/wikipedia/en/thumb/4/4e/Steamboat-willie.jpg/170px-Steamboat-willie.jpg\n",
      "\n",
      "https://upload.wikimedia.org/wikipedia/commons/thumb/f/f1/Eisenstein_Tisse_Aleksandrov_Disney.webp/170px-Eisenstein_Tisse_Aleksandrov_Disney.webp.png\n",
      "\n",
      "https://upload.wikimedia.org/wikipedia/commons/thumb/c/cd/Walt_Disney_Snow_white_1937_trailer_screenshot_%2813%29.jpg/220px-Walt_Disney_Snow_white_1937_trailer_screenshot_%2813%29.jpg\n",
      "\n",
      "https://upload.wikimedia.org/wikipedia/commons/thumb/1/15/Disney_drawing_goofy.jpg/170px-Disney_drawing_goofy.jpg\n",
      "\n",
      "https://upload.wikimedia.org/wikipedia/commons/thumb/8/8c/WaltDisneyplansDisneylandDec1954.jpg/220px-WaltDisneyplansDisneylandDec1954.jpg\n",
      "\n",
      "https://upload.wikimedia.org/wikipedia/commons/thumb/f/ff/Walt_disney_portrait_right.jpg/170px-Walt_disney_portrait_right.jpg\n",
      "\n",
      "https://upload.wikimedia.org/wikipedia/commons/thumb/1/1a/Walt_Disney_Grave.JPG/170px-Walt_Disney_Grave.JPG\n",
      "\n",
      "https://upload.wikimedia.org/wikipedia/commons/thumb/2/2d/Roy_O._Disney_with_Company_at_Press_Conference.jpg/170px-Roy_O._Disney_with_Company_at_Press_Conference.jpg\n",
      "\n",
      "https://upload.wikimedia.org/wikipedia/commons/thumb/1/13/DisneySchiphol1951.jpg/220px-DisneySchiphol1951.jpg\n",
      "\n",
      "https://upload.wikimedia.org/wikipedia/commons/thumb/6/6c/Disney1968.jpg/170px-Disney1968.jpg\n",
      "\n",
      "https://upload.wikimedia.org/wikipedia/commons/thumb/b/b0/Disney_Oscar_1953_%28cropped%29.jpg/170px-Disney_Oscar_1953_%28cropped%29.jpg\n",
      "\n",
      "https://upload.wikimedia.org/wikipedia/en/thumb/4/4a/Commons-logo.svg/30px-Commons-logo.svg.png\n",
      "\n",
      "https://upload.wikimedia.org/wikipedia/commons/thumb/4/4c/Wikisource-logo.svg/38px-Wikisource-logo.svg.png\n",
      "\n",
      "https://upload.wikimedia.org/wikipedia/commons/thumb/f/fa/Wikiquote-logo.svg/34px-Wikiquote-logo.svg.png\n",
      "\n",
      "https://upload.wikimedia.org/wikipedia/en/thumb/8/8a/OOjs_UI_icon_edit-ltr-progressive.svg/10px-OOjs_UI_icon_edit-ltr-progressive.svg.png\n",
      "\n",
      "https://upload.wikimedia.org/wikipedia/en/thumb/8/8a/OOjs_UI_icon_edit-ltr-progressive.svg/10px-OOjs_UI_icon_edit-ltr-progressive.svg.png\n",
      "\n",
      "https://upload.wikimedia.org/wikipedia/commons/thumb/e/e3/Disneyland_Resort_logo.svg/135px-Disneyland_Resort_logo.svg.png\n",
      "\n",
      "https://upload.wikimedia.org/wikipedia/commons/thumb/d/da/Animation_disc.svg/20px-Animation_disc.svg.png\n",
      "\n",
      "https://upload.wikimedia.org/wikipedia/en/thumb/6/69/P_vip.svg/19px-P_vip.svg.png\n",
      "\n",
      "https://upload.wikimedia.org/wikipedia/commons/thumb/1/1a/Magic_Kingdom_castle.jpg/15px-Magic_Kingdom_castle.jpg\n",
      "\n",
      "https://upload.wikimedia.org/wikipedia/en/thumb/e/e7/Video-x-generic.svg/19px-Video-x-generic.svg.png\n",
      "\n",
      "https://upload.wikimedia.org/wikipedia/commons/thumb/a/a3/Flag_of_Los_Angeles_County%2C_California.svg/21px-Flag_of_Los_Angeles_County%2C_California.svg.png\n",
      "\n",
      "https://upload.wikimedia.org/wikipedia/commons/thumb/8/8c/Blank_television_set.svg/21px-Blank_television_set.svg.png\n",
      "\n",
      "https://upload.wikimedia.org/wikipedia/en/thumb/a/a4/Flag_of_the_United_States.svg/21px-Flag_of_the_United_States.svg.png\n",
      "\n",
      "https://upload.wikimedia.org/wikipedia/en/thumb/4/4a/Commons-logo.svg/14px-Commons-logo.svg.png\n",
      "\n",
      "https://upload.wikimedia.org/wikipedia/commons/thumb/f/fa/Wikiquote-logo.svg/16px-Wikiquote-logo.svg.png\n",
      "\n",
      "https://upload.wikimedia.org/wikipedia/commons/thumb/4/4c/Wikisource-logo.svg/18px-Wikisource-logo.svg.png\n",
      "\n",
      "https://upload.wikimedia.org/wikipedia/commons/thumb/f/ff/Wikidata-logo.svg/21px-Wikidata-logo.svg.png\n",
      "\n",
      "https://upload.wikimedia.org/wikipedia/en/thumb/8/8a/OOjs_UI_icon_edit-ltr-progressive.svg/10px-OOjs_UI_icon_edit-ltr-progressive.svg.png\n",
      "\n"
     ]
    }
   ],
   "source": [
    "images = parsed_html.find_all('img', {'src':True})\n",
    "for image in images:\n",
    "    if \"upload.wikimedia\" in image['src']:\n",
    "        print('https:'+image['src']+'\\n')"
   ]
  },
  {
   "cell_type": "markdown",
   "metadata": {},
   "source": [
    "#### Retrieve an arbitary Wikipedia page of \"Python\" and create a list of links on that page."
   ]
  },
  {
   "cell_type": "code",
   "execution_count": 31,
   "metadata": {},
   "outputs": [],
   "source": [
    "# This is the url you will scrape in this exercise\n",
    "url ='https://en.wikipedia.org/wiki/Python' \n",
    "\n",
    "headers = {'user-agent': 'Mozilla/5.0 (Windows NT 6.1; Win64; x64; rv:47.0) Gecko/20100101 Firefox/47.0'}\n",
    "response = requests.get(url,\n",
    "                        headers=headers,\n",
    "                        timeout=5)\n",
    "\n",
    "html = response.content\n",
    "parsed_html = bs4.BeautifulSoup(html, \"html.parser\") "
   ]
  },
  {
   "cell_type": "code",
   "execution_count": 32,
   "metadata": {},
   "outputs": [
    {
     "name": "stdout",
     "output_type": "stream",
     "text": [
      "#bodyContent\n",
      "/wiki/Main_Page\n",
      "/wiki/Wikipedia:Contents\n",
      "/wiki/Portal:Current_events\n",
      "/wiki/Special:Random\n",
      "/wiki/Wikipedia:About\n",
      "//en.wikipedia.org/wiki/Wikipedia:Contact_us\n",
      "https://donate.wikimedia.org/wiki/Special:FundraiserRedirector?utm_source=donate&utm_medium=sidebar&utm_campaign=C13_en.wikipedia.org&uselang=en\n",
      "/wiki/Help:Contents\n",
      "/wiki/Help:Introduction\n",
      "/wiki/Wikipedia:Community_portal\n",
      "/wiki/Special:RecentChanges\n",
      "/wiki/Wikipedia:File_upload_wizard\n",
      "/wiki/Main_Page\n",
      "/wiki/Special:Search\n",
      "/w/index.php?title=Special:CreateAccount&returnto=Python\n",
      "/w/index.php?title=Special:UserLogin&returnto=Python\n",
      "/w/index.php?title=Special:CreateAccount&returnto=Python\n",
      "/w/index.php?title=Special:UserLogin&returnto=Python\n",
      "/wiki/Help:Introduction\n",
      "/wiki/Special:MyContributions\n",
      "/wiki/Special:MyTalk\n",
      "#\n",
      "#Snakes\n",
      "#Computing\n",
      "#People\n",
      "#Roller_coasters\n",
      "#Vehicles\n",
      "#Weaponry\n",
      "#Other_uses\n",
      "#See_also\n",
      "https://af.wikipedia.org/wiki/Python\n",
      "https://als.wikipedia.org/wiki/Python\n",
      "https://ar.wikipedia.org/wiki/%D8%A8%D8%A7%D9%8A%D8%AB%D9%88%D9%86_(%D8%AA%D9%88%D8%B6%D9%8A%D8%AD)\n",
      "https://az.wikipedia.org/wiki/Python_(d%C9%99qiql%C9%99%C5%9Fdirm%C9%99)\n",
      "https://bn.wikipedia.org/wiki/%E0%A6%AA%E0%A6%BE%E0%A6%87%E0%A6%A5%E0%A6%A8_(%E0%A6%A6%E0%A7%8D%E0%A6%AC%E0%A7%8D%E0%A6%AF%E0%A6%B0%E0%A7%8D%E0%A6%A5%E0%A6%A4%E0%A6%BE_%E0%A6%A8%E0%A6%BF%E0%A6%B0%E0%A6%B8%E0%A6%A8)\n",
      "https://be.wikipedia.org/wiki/Python\n",
      "https://bg.wikipedia.org/wiki/%D0%9F%D0%B8%D1%82%D0%BE%D0%BD_(%D0%BF%D0%BE%D1%8F%D1%81%D0%BD%D0%B5%D0%BD%D0%B8%D0%B5)\n",
      "https://cs.wikipedia.org/wiki/Python_(rozcestn%C3%ADk)\n",
      "https://da.wikipedia.org/wiki/Python\n",
      "https://de.wikipedia.org/wiki/Python\n",
      "https://eo.wikipedia.org/wiki/Pitono_(apartigilo)\n",
      "https://eu.wikipedia.org/wiki/Python_(argipena)\n",
      "https://fa.wikipedia.org/wiki/%D9%BE%D8%A7%DB%8C%D8%AA%D9%88%D9%86\n",
      "https://fr.wikipedia.org/wiki/Python\n",
      "https://ko.wikipedia.org/wiki/%ED%8C%8C%EC%9D%B4%EC%84%A0\n",
      "https://hr.wikipedia.org/wiki/Python_(razdvojba)\n",
      "https://io.wikipedia.org/wiki/Pitono\n",
      "https://id.wikipedia.org/wiki/Python\n",
      "https://ia.wikipedia.org/wiki/Python_(disambiguation)\n",
      "https://is.wikipedia.org/wiki/Python_(a%C3%B0greining)\n",
      "https://it.wikipedia.org/wiki/Python_(disambigua)\n",
      "https://he.wikipedia.org/wiki/%D7%A4%D7%99%D7%AA%D7%95%D7%9F\n",
      "https://ka.wikipedia.org/wiki/%E1%83%9E%E1%83%98%E1%83%97%E1%83%9D%E1%83%9C%E1%83%98_(%E1%83%9B%E1%83%A0%E1%83%90%E1%83%95%E1%83%90%E1%83%9A%E1%83%9B%E1%83%9C%E1%83%98%E1%83%A8%E1%83%95%E1%83%9C%E1%83%94%E1%83%9A%E1%83%9D%E1%83%95%E1%83%90%E1%83%9C%E1%83%98)\n",
      "https://kg.wikipedia.org/wiki/Mboma_(nyoka)\n",
      "https://la.wikipedia.org/wiki/Python_(discretiva)\n",
      "https://lb.wikipedia.org/wiki/Python\n",
      "https://hu.wikipedia.org/wiki/Python_(egy%C3%A9rtelm%C5%B1s%C3%ADt%C5%91_lap)\n",
      "https://mr.wikipedia.org/wiki/%E0%A4%AA%E0%A4%BE%E0%A4%AF%E0%A4%A5%E0%A5%89%E0%A4%A8_(%E0%A4%86%E0%A4%9C%E0%A5%8D%E0%A4%9E%E0%A4%BE%E0%A4%B5%E0%A4%B2%E0%A5%80_%E0%A4%AD%E0%A4%BE%E0%A4%B7%E0%A4%BE)\n",
      "https://nl.wikipedia.org/wiki/Python\n",
      "https://ja.wikipedia.org/wiki/%E3%83%91%E3%82%A4%E3%82%BD%E3%83%B3\n",
      "https://no.wikipedia.org/wiki/Pyton\n",
      "https://pl.wikipedia.org/wiki/Pyton\n",
      "https://pt.wikipedia.org/wiki/Python_(desambigua%C3%A7%C3%A3o)\n",
      "https://ru.wikipedia.org/wiki/Python_(%D0%B7%D0%BD%D0%B0%D1%87%D0%B5%D0%BD%D0%B8%D1%8F)\n",
      "https://sk.wikipedia.org/wiki/Python\n",
      "https://sr.wikipedia.org/wiki/%D0%9F%D0%B8%D1%82%D0%BE%D0%BD_(%D0%B2%D0%B8%D1%88%D0%B5%D0%B7%D0%BD%D0%B0%D1%87%D0%BD%D0%B0_%D0%BE%D0%B4%D1%80%D0%B5%D0%B4%D0%BD%D0%B8%D1%86%D0%B0)\n",
      "https://sh.wikipedia.org/wiki/Python\n",
      "https://fi.wikipedia.org/wiki/Python\n",
      "https://sv.wikipedia.org/wiki/Pyton\n",
      "https://th.wikipedia.org/wiki/%E0%B9%84%E0%B8%9E%E0%B8%97%E0%B8%AD%E0%B8%99\n",
      "https://tr.wikipedia.org/wiki/Python_(anlam_ayr%C4%B1m%C4%B1)\n",
      "https://uk.wikipedia.org/wiki/%D0%9F%D1%96%D1%84%D0%BE%D0%BD\n",
      "https://ur.wikipedia.org/wiki/%D9%BE%D8%A7%D8%A6%DB%8C%D8%AA%DA%BE%D9%88%D9%86\n",
      "https://vi.wikipedia.org/wiki/Python\n",
      "https://zh.wikipedia.org/wiki/Python_(%E6%B6%88%E6%AD%A7%E4%B9%89)\n",
      "https://www.wikidata.org/wiki/Special:EntityPage/Q747452#sitelinks-wikipedia\n",
      "/wiki/Python\n",
      "/wiki/Talk:Python\n",
      "/wiki/Python\n",
      "/w/index.php?title=Python&action=edit\n",
      "/w/index.php?title=Python&action=history\n",
      "/wiki/Python\n",
      "/w/index.php?title=Python&action=edit\n",
      "/w/index.php?title=Python&action=history\n",
      "/wiki/Special:WhatLinksHere/Python\n",
      "/wiki/Special:RecentChangesLinked/Python\n",
      "/wiki/Wikipedia:File_Upload_Wizard\n",
      "/wiki/Special:SpecialPages\n",
      "/w/index.php?title=Python&oldid=1160327359\n",
      "/w/index.php?title=Python&action=info\n",
      "/w/index.php?title=Special:CiteThisPage&page=Python&id=1160327359&wpFormIdentifier=titleform\n",
      "https://www.wikidata.org/wiki/Special:EntityPage/Q747452\n",
      "/w/index.php?title=Special:DownloadAsPdf&page=Python&action=show-download-screen\n",
      "/w/index.php?title=Python&printable=yes\n",
      "https://commons.wikimedia.org/wiki/Category:Python\n",
      "https://en.wiktionary.org/wiki/Python\n",
      "https://en.wiktionary.org/wiki/python\n",
      "/w/index.php?title=Python&action=edit&section=1\n",
      "/wiki/Pythonidae\n",
      "/wiki/Python_(genus)\n",
      "/wiki/Python_(mythology)\n",
      "/w/index.php?title=Python&action=edit&section=2\n",
      "/wiki/Python_(programming_language)\n",
      "/wiki/CMU_Common_Lisp\n",
      "/wiki/PERQ#PERQ_3\n",
      "/w/index.php?title=Python&action=edit&section=3\n",
      "/wiki/Python_of_Aenus\n",
      "/wiki/Python_(painter)\n",
      "/wiki/Python_of_Byzantium\n",
      "/wiki/Python_of_Catana\n",
      "/wiki/Python_Anghelo\n",
      "/w/index.php?title=Python&action=edit&section=4\n",
      "/wiki/Python_(Efteling)\n",
      "/wiki/Python_(Busch_Gardens_Tampa_Bay)\n",
      "/wiki/Python_(Coney_Island,_Cincinnati,_Ohio)\n",
      "/w/index.php?title=Python&action=edit&section=5\n",
      "/wiki/Python_(automobile_maker)\n",
      "/wiki/Python_(Ford_prototype)\n",
      "/w/index.php?title=Python&action=edit&section=6\n",
      "/wiki/Python_(missile)\n",
      "/wiki/Python_(nuclear_primary)\n",
      "/wiki/Colt_Python\n",
      "/w/index.php?title=Python&action=edit&section=7\n",
      "/wiki/Python_(codename)\n",
      "/wiki/Python_(film)\n",
      "/wiki/Monty_Python\n",
      "/wiki/Python_(Monty)_Pictures\n",
      "/wiki/Timon_of_Phlius\n",
      "/w/index.php?title=Python&action=edit&section=8\n",
      "/wiki/Pyton\n",
      "/wiki/Pithon\n",
      "/wiki/File:Disambig_gray.svg\n",
      "/wiki/Help:Disambiguation\n",
      "https://en.wikipedia.org/w/index.php?title=Special:WhatLinksHere/Python&namespace=0\n",
      "https://en.wikipedia.org/w/index.php?title=Python&oldid=1160327359\n",
      "/wiki/Help:Category\n",
      "/wiki/Category:Disambiguation_pages\n",
      "/wiki/Category:Human_name_disambiguation_pages\n",
      "/wiki/Category:Disambiguation_pages_with_given-name-holder_lists\n",
      "/wiki/Category:Short_description_is_different_from_Wikidata\n",
      "/wiki/Category:All_article_disambiguation_pages\n",
      "/wiki/Category:All_disambiguation_pages\n",
      "/wiki/Category:Animal_common_name_disambiguation_pages\n",
      "https://creativecommons.org/licenses/by-sa/4.0/\n",
      "//creativecommons.org/licenses/by-sa/4.0/\n",
      "//foundation.wikimedia.org/wiki/Terms_of_Use\n",
      "//foundation.wikimedia.org/wiki/Privacy_policy\n",
      "//www.wikimediafoundation.org/\n",
      "https://foundation.wikimedia.org/wiki/Special:MyLanguage/Policy:Privacy_policy\n",
      "/wiki/Wikipedia:About\n",
      "/wiki/Wikipedia:General_disclaimer\n",
      "//en.wikipedia.org/wiki/Wikipedia:Contact_us\n",
      "https://foundation.wikimedia.org/wiki/Special:MyLanguage/Universal_Code_of_Conduct\n",
      "//en.m.wikipedia.org/w/index.php?title=Python&mobileaction=toggle_view_mobile\n",
      "https://developer.wikimedia.org\n",
      "https://stats.wikimedia.org/#/en.wikipedia.org\n",
      "https://foundation.wikimedia.org/wiki/Special:MyLanguage/Policy:Cookie_statement\n",
      "https://wikimediafoundation.org/\n",
      "https://www.mediawiki.org/\n"
     ]
    }
   ],
   "source": [
    "for link in parsed_html.findAll(\"a\"):\n",
    "    if 'href' in link.attrs:\n",
    "        print(link.attrs['href'])"
   ]
  },
  {
   "cell_type": "markdown",
   "metadata": {},
   "source": [
    "#### Find the number of titles that have changed in the United States Code since its last release point."
   ]
  },
  {
   "cell_type": "code",
   "execution_count": 33,
   "metadata": {},
   "outputs": [],
   "source": [
    "url = 'http://uscode.house.gov/download/download.shtml'\n",
    "\n",
    "\n",
    "\n",
    "headers = {'user-agent': 'Mozilla/5.0 (Windows NT 6.1; Win64; x64; rv:47.0) Gecko/20100101 Firefox/47.0'}\n",
    "response = requests.get(url,\n",
    "                        headers=headers,\n",
    "                        timeout=5)\n",
    "\n",
    "html = response.content\n",
    "parsed_html = bs4.BeautifulSoup(html, \"html.parser\") "
   ]
  },
  {
   "cell_type": "code",
   "execution_count": 34,
   "metadata": {},
   "outputs": [],
   "source": [
    "changed_titles = [str(tag) for tag in parsed_html.find_all(\"div\",{\"class\": \"usctitlechanged\"})]\n",
    "changed_titles_list = [j.split(\" <\") for i in [i.split(\"          \") for i in changed_titles] for j in i]\n"
   ]
  },
  {
   "cell_type": "markdown",
   "metadata": {},
   "source": [
    "#### Find a Python list with the top ten FBI's Most Wanted names."
   ]
  },
  {
   "cell_type": "code",
   "execution_count": 35,
   "metadata": {},
   "outputs": [],
   "source": [
    "# This is the url you will scrape in this exercise\n",
    "url = 'https://www.fbi.gov/wanted/topten'\n",
    "\n",
    "\n",
    "headers = {'user-agent': 'Mozilla/5.0 (Windows NT 6.1; Win64; x64; rv:47.0) Gecko/20100101 Firefox/47.0'}\n",
    "response = requests.get(url,\n",
    "                        headers=headers,\n",
    "                        timeout=5)\n",
    "\n",
    "html = response.content\n",
    "parsed_html = bs4.BeautifulSoup(html, \"html.parser\") \n",
    "#print(parsed_html.prettify())"
   ]
  },
  {
   "cell_type": "code",
   "execution_count": 36,
   "metadata": {},
   "outputs": [
    {
     "data": {
      "text/plain": [
       "['WILVER VILLEGAS-PALOMINO',\n",
       " 'ALEJANDRO ROSALES CASTILLO',\n",
       " 'RUJA IGNATOVA',\n",
       " 'DONALD EUGENE FIELDS II',\n",
       " 'ARNOLDO JIMENEZ',\n",
       " 'OMAR ALEXANDER CARDENAS',\n",
       " 'ALEXIS FLORES',\n",
       " 'YULAN ADONAY ARCHAGA CARIAS',\n",
       " 'BHADRESHKUMAR CHETANBHAI PATEL',\n",
       " 'JOSE RODOLFO VILLARREAL-HERNANDEZ']"
      ]
     },
     "execution_count": 36,
     "metadata": {},
     "output_type": "execute_result"
    }
   ],
   "source": [
    "# your code here\n",
    "\n",
    "top_wanted = [tag.attrs for tag in parsed_html.find_all(\"img\",{\"alt\": True})]\n",
    "\n",
    "[i[\"alt\"] for i in top_wanted if \"topten\" in i[\"src\"]]       "
   ]
  },
  {
   "cell_type": "markdown",
   "metadata": {},
   "source": [
    "####  Display the 20 latest earthquakes info (date, time, latitude, longitude and region name) by the EMSC as a pandas dataframe."
   ]
  },
  {
   "cell_type": "code",
   "execution_count": 37,
   "metadata": {},
   "outputs": [],
   "source": [
    "# This is the url you will scrape in this exercise\n",
    "url = 'https://www.emsc-csem.org/Earthquake/'\n",
    "headers = {'user-agent': 'Mozilla/5.0 (Windows NT 6.1; Win64; x64; rv:47.0) Gecko/20100101 Firefox/47.0'}\n",
    "response = requests.get(url,\n",
    "                        headers=headers,\n",
    "                        timeout=5)\n",
    "\n",
    "html = response.content\n",
    "parsed_html = bs4.BeautifulSoup(html, \"html.parser\") \n",
    "#print(parsed_html.prettify())"
   ]
  },
  {
   "cell_type": "code",
   "execution_count": 38,
   "metadata": {},
   "outputs": [
    {
     "data": {
      "text/html": [
       "<div>\n",
       "<style scoped>\n",
       "    .dataframe tbody tr th:only-of-type {\n",
       "        vertical-align: middle;\n",
       "    }\n",
       "\n",
       "    .dataframe tbody tr th {\n",
       "        vertical-align: top;\n",
       "    }\n",
       "\n",
       "    .dataframe thead th {\n",
       "        text-align: right;\n",
       "    }\n",
       "</style>\n",
       "<table border=\"1\" class=\"dataframe\">\n",
       "  <thead>\n",
       "    <tr style=\"text-align: right;\">\n",
       "      <th></th>\n",
       "      <th>Date</th>\n",
       "      <th>Time</th>\n",
       "      <th>Latitude</th>\n",
       "      <th>Longitude</th>\n",
       "      <th>Region</th>\n",
       "    </tr>\n",
       "  </thead>\n",
       "  <tbody>\n",
       "    <tr>\n",
       "      <th>0</th>\n",
       "      <td>2023-06-26</td>\n",
       "      <td>18:04:08.0</td>\n",
       "      <td>24.47 N</td>\n",
       "      <td>93.09 E</td>\n",
       "      <td>MANIPUR, INDIA REGION</td>\n",
       "    </tr>\n",
       "    <tr>\n",
       "      <th>1</th>\n",
       "      <td>2023-06-26</td>\n",
       "      <td>17:54:34.3</td>\n",
       "      <td>15.28 S</td>\n",
       "      <td>174.46 W</td>\n",
       "      <td>TONGA</td>\n",
       "    </tr>\n",
       "    <tr>\n",
       "      <th>2</th>\n",
       "      <td>2023-06-26</td>\n",
       "      <td>17:52:07.6</td>\n",
       "      <td>38.06 N</td>\n",
       "      <td>29.03 E</td>\n",
       "      <td>WESTERN TURKEY</td>\n",
       "    </tr>\n",
       "    <tr>\n",
       "      <th>3</th>\n",
       "      <td>2023-06-26</td>\n",
       "      <td>17:41:56.9</td>\n",
       "      <td>43.70 N</td>\n",
       "      <td>20.64 E</td>\n",
       "      <td>SERBIA</td>\n",
       "    </tr>\n",
       "    <tr>\n",
       "      <th>4</th>\n",
       "      <td>2023-06-26</td>\n",
       "      <td>17:35:22.1</td>\n",
       "      <td>44.19 S</td>\n",
       "      <td>168.64 E</td>\n",
       "      <td>SOUTH ISLAND OF NEW ZEALAND</td>\n",
       "    </tr>\n",
       "    <tr>\n",
       "      <th>5</th>\n",
       "      <td>2023-06-26</td>\n",
       "      <td>17:34:02.9</td>\n",
       "      <td>38.03 N</td>\n",
       "      <td>37.54 E</td>\n",
       "      <td>CENTRAL TURKEY</td>\n",
       "    </tr>\n",
       "    <tr>\n",
       "      <th>6</th>\n",
       "      <td>2023-06-26</td>\n",
       "      <td>17:30:31.1</td>\n",
       "      <td>36.55 N</td>\n",
       "      <td>28.44 E</td>\n",
       "      <td>DODECANESE IS.-TURKEY BORDER REG</td>\n",
       "    </tr>\n",
       "    <tr>\n",
       "      <th>7</th>\n",
       "      <td>2023-06-26</td>\n",
       "      <td>17:26:52.3</td>\n",
       "      <td>40.37 N</td>\n",
       "      <td>20.71 E</td>\n",
       "      <td>ALBANIA</td>\n",
       "    </tr>\n",
       "    <tr>\n",
       "      <th>8</th>\n",
       "      <td>2023-06-26</td>\n",
       "      <td>17:26:01.9</td>\n",
       "      <td>43.59 S</td>\n",
       "      <td>172.40 E</td>\n",
       "      <td>SOUTH ISLAND OF NEW ZEALAND</td>\n",
       "    </tr>\n",
       "    <tr>\n",
       "      <th>9</th>\n",
       "      <td>2023-06-26</td>\n",
       "      <td>17:16:04.5</td>\n",
       "      <td>40.68 N</td>\n",
       "      <td>29.98 E</td>\n",
       "      <td>WESTERN TURKEY</td>\n",
       "    </tr>\n",
       "    <tr>\n",
       "      <th>10</th>\n",
       "      <td>2023-06-26</td>\n",
       "      <td>17:12:10.0</td>\n",
       "      <td>18.49 S</td>\n",
       "      <td>71.16 W</td>\n",
       "      <td>OFF COAST OF TARAPACA, CHILE</td>\n",
       "    </tr>\n",
       "    <tr>\n",
       "      <th>11</th>\n",
       "      <td>2023-06-26</td>\n",
       "      <td>16:56:22.7</td>\n",
       "      <td>35.94 N</td>\n",
       "      <td>22.03 E</td>\n",
       "      <td>CENTRAL MEDITERRANEAN SEA</td>\n",
       "    </tr>\n",
       "    <tr>\n",
       "      <th>12</th>\n",
       "      <td>2023-06-26</td>\n",
       "      <td>16:51:30.9</td>\n",
       "      <td>36.02 N</td>\n",
       "      <td>35.64 E</td>\n",
       "      <td>CENTRAL TURKEY</td>\n",
       "    </tr>\n",
       "    <tr>\n",
       "      <th>13</th>\n",
       "      <td>2023-06-26</td>\n",
       "      <td>16:33:51.0</td>\n",
       "      <td>8.39 N</td>\n",
       "      <td>125.93 E</td>\n",
       "      <td>MINDANAO, PHILIPPINES</td>\n",
       "    </tr>\n",
       "    <tr>\n",
       "      <th>14</th>\n",
       "      <td>2023-06-26</td>\n",
       "      <td>16:09:49.0</td>\n",
       "      <td>20.71 S</td>\n",
       "      <td>69.05 W</td>\n",
       "      <td>TARAPACA, CHILE</td>\n",
       "    </tr>\n",
       "    <tr>\n",
       "      <th>15</th>\n",
       "      <td>2023-06-26</td>\n",
       "      <td>16:08:18.0</td>\n",
       "      <td>37.99 N</td>\n",
       "      <td>36.39 E</td>\n",
       "      <td>CENTRAL TURKEY</td>\n",
       "    </tr>\n",
       "    <tr>\n",
       "      <th>16</th>\n",
       "      <td>2023-06-26</td>\n",
       "      <td>16:05:23.5</td>\n",
       "      <td>40.28 S</td>\n",
       "      <td>176.66 E</td>\n",
       "      <td>NORTH ISLAND OF NEW ZEALAND</td>\n",
       "    </tr>\n",
       "    <tr>\n",
       "      <th>17</th>\n",
       "      <td>2023-06-26</td>\n",
       "      <td>16:04:03.4</td>\n",
       "      <td>20.03 S</td>\n",
       "      <td>66.77 W</td>\n",
       "      <td>POTOSI, BOLIVIA</td>\n",
       "    </tr>\n",
       "    <tr>\n",
       "      <th>18</th>\n",
       "      <td>2023-06-26</td>\n",
       "      <td>16:00:52.4</td>\n",
       "      <td>19.22 N</td>\n",
       "      <td>155.39 W</td>\n",
       "      <td>ISLAND OF HAWAII, HAWAII</td>\n",
       "    </tr>\n",
       "    <tr>\n",
       "      <th>19</th>\n",
       "      <td>2023-06-26</td>\n",
       "      <td>15:59:48.0</td>\n",
       "      <td>30.68 S</td>\n",
       "      <td>71.33 W</td>\n",
       "      <td>COQUIMBO, CHILE</td>\n",
       "    </tr>\n",
       "    <tr>\n",
       "      <th>20</th>\n",
       "      <td>2023-06-26</td>\n",
       "      <td>15:52:35.0</td>\n",
       "      <td>0.98 S</td>\n",
       "      <td>120.55 E</td>\n",
       "      <td>MINAHASA, SULAWESI, INDONESIA</td>\n",
       "    </tr>\n",
       "  </tbody>\n",
       "</table>\n",
       "</div>"
      ],
      "text/plain": [
       "          Date        Time Latitude Longitude  \\\n",
       "0   2023-06-26  18:04:08.0  24.47 N   93.09 E   \n",
       "1   2023-06-26  17:54:34.3  15.28 S  174.46 W   \n",
       "2   2023-06-26  17:52:07.6  38.06 N   29.03 E   \n",
       "3   2023-06-26  17:41:56.9  43.70 N   20.64 E   \n",
       "4   2023-06-26  17:35:22.1  44.19 S  168.64 E   \n",
       "5   2023-06-26  17:34:02.9  38.03 N   37.54 E   \n",
       "6   2023-06-26  17:30:31.1  36.55 N   28.44 E   \n",
       "7   2023-06-26  17:26:52.3  40.37 N   20.71 E   \n",
       "8   2023-06-26  17:26:01.9  43.59 S  172.40 E   \n",
       "9   2023-06-26  17:16:04.5  40.68 N   29.98 E   \n",
       "10  2023-06-26  17:12:10.0  18.49 S   71.16 W   \n",
       "11  2023-06-26  16:56:22.7  35.94 N   22.03 E   \n",
       "12  2023-06-26  16:51:30.9  36.02 N   35.64 E   \n",
       "13  2023-06-26  16:33:51.0   8.39 N  125.93 E   \n",
       "14  2023-06-26  16:09:49.0  20.71 S   69.05 W   \n",
       "15  2023-06-26  16:08:18.0  37.99 N   36.39 E   \n",
       "16  2023-06-26  16:05:23.5  40.28 S  176.66 E   \n",
       "17  2023-06-26  16:04:03.4  20.03 S   66.77 W   \n",
       "18  2023-06-26  16:00:52.4  19.22 N  155.39 W   \n",
       "19  2023-06-26  15:59:48.0  30.68 S   71.33 W   \n",
       "20  2023-06-26  15:52:35.0   0.98 S  120.55 E   \n",
       "\n",
       "                              Region  \n",
       "0              MANIPUR, INDIA REGION  \n",
       "1                              TONGA  \n",
       "2                     WESTERN TURKEY  \n",
       "3                             SERBIA  \n",
       "4        SOUTH ISLAND OF NEW ZEALAND  \n",
       "5                     CENTRAL TURKEY  \n",
       "6   DODECANESE IS.-TURKEY BORDER REG  \n",
       "7                            ALBANIA  \n",
       "8        SOUTH ISLAND OF NEW ZEALAND  \n",
       "9                     WESTERN TURKEY  \n",
       "10      OFF COAST OF TARAPACA, CHILE  \n",
       "11         CENTRAL MEDITERRANEAN SEA  \n",
       "12                    CENTRAL TURKEY  \n",
       "13             MINDANAO, PHILIPPINES  \n",
       "14                   TARAPACA, CHILE  \n",
       "15                    CENTRAL TURKEY  \n",
       "16       NORTH ISLAND OF NEW ZEALAND  \n",
       "17                   POTOSI, BOLIVIA  \n",
       "18          ISLAND OF HAWAII, HAWAII  \n",
       "19                   COQUIMBO, CHILE  \n",
       "20     MINAHASA, SULAWESI, INDONESIA  "
      ]
     },
     "execution_count": 38,
     "metadata": {},
     "output_type": "execute_result"
    }
   ],
   "source": [
    "# your code here\n",
    "\n",
    "# Date and Time\n",
    "\n",
    "date_time = [str(tag.string) for tag in parsed_html.find_all(\"a\",{\"href\": True})]\n",
    "date_time = [i.replace(\"\\xa0\",\" \") for i in date_time if \"2023\" in i]\n",
    "date_time =[i.split(\"   \") for i in date_time]\n",
    "\n",
    "date = [i[0] for i in date_time]\n",
    "time = [i[1] for i in date_time]\n",
    "\n",
    "# Latitude and Longitude\n",
    "\n",
    "latitude_longitude1 = [str(tag.string) for tag in parsed_html.find_all(\"td\",{\"class\": \"tabev1\"})]\n",
    "latitude_longitude1\n",
    "latitude_longitude2 = [str(tag.string) for tag in parsed_html.find_all(\"td\",{\"class\": \"tabev2\"})]\n",
    "latitude_longitude2 = [i for i in latitude_longitude2 if \"S\" in i or \"N\" in i or \"E\" in i or \"W\" in i]\n",
    "latitude_longitude = [j.replace(\"\\xa0\",\"\") + \" \" + k.replace(\"\\xa0\",\"\") for j,k in zip(latitude_longitude1,latitude_longitude2)]\n",
    "\n",
    "latitude = [i for i in latitude_longitude if \"S\" in i or \"N\" in i]\n",
    "longitude = [i for i in latitude_longitude if \"E\" in i or \"W\" in i]\n",
    "\n",
    "# Region\n",
    "\n",
    "region = [str(tag.string).replace(\"\\xa0\",\"\") for tag in parsed_html.find_all(\"td\",{\"class\": \"tb_region\"})]\n",
    "\n",
    "# DataFrame\n",
    "\n",
    "earthquakes_dict = {\"Date\":date,\"Time\":time,\"Latitude\":latitude,\"Longitude\":longitude,\"Region\":region}\n",
    "pd.DataFrame(earthquakes_dict).head(21)"
   ]
  },
  {
   "cell_type": "markdown",
   "metadata": {},
   "source": [
    "#### Count the number of tweets by a given Twitter account.\n",
    "Ask the user for the handle (@handle) of a twitter account. You will need to include a ***try/except block*** for account names not found. \n",
    "<br>***Hint:*** the program should count the number of tweets for any provided account."
   ]
  },
  {
   "cell_type": "code",
   "execution_count": null,
   "metadata": {},
   "outputs": [],
   "source": [
    "# This is the url you will scrape in this exercise \n",
    "# You will need to add the account credentials to this url\n",
    "url = 'https://twitter.com/'"
   ]
  },
  {
   "cell_type": "code",
   "execution_count": null,
   "metadata": {},
   "outputs": [],
   "source": [
    "# your code here"
   ]
  },
  {
   "cell_type": "markdown",
   "metadata": {},
   "source": [
    "#### Number of followers of a given twitter account\n",
    "Ask the user for the handle (@handle) of a twitter account. You will need to include a ***try/except block*** for account names not found. \n",
    "<br>***Hint:*** the program should count the followers for any provided account."
   ]
  },
  {
   "cell_type": "code",
   "execution_count": null,
   "metadata": {},
   "outputs": [],
   "source": [
    "# This is the url you will scrape in this exercise \n",
    "# You will need to add the account credentials to this url\n",
    "url = 'https://twitter.com/'"
   ]
  },
  {
   "cell_type": "code",
   "execution_count": null,
   "metadata": {},
   "outputs": [],
   "source": [
    "# your code here"
   ]
  },
  {
   "cell_type": "markdown",
   "metadata": {},
   "source": [
    "#### List all language names and number of related articles in the order they appear in wikipedia.org."
   ]
  },
  {
   "cell_type": "code",
   "execution_count": 39,
   "metadata": {},
   "outputs": [],
   "source": [
    "# This is the url you will scrape in this exercise\n",
    "url = 'https://www.wikipedia.org/'\n",
    "headers = {'user-agent': 'Mozilla/5.0 (Windows NT 6.1; Win64; x64; rv:47.0) Gecko/20100101 Firefox/47.0'}\n",
    "response = requests.get(url,\n",
    "                        headers=headers,\n",
    "                        timeout=5)\n",
    "\n",
    "html = response.content\n",
    "parsed_html = bs4.BeautifulSoup(html, \"lxml\") \n",
    "#print(parsed_html.prettify())"
   ]
  },
  {
   "cell_type": "code",
   "execution_count": 41,
   "metadata": {},
   "outputs": [
    {
     "name": "stdout",
     "output_type": "stream",
     "text": [
      "\n",
      "English\n",
      "6 668 000+ articles\n",
      "\n",
      "\n",
      "日本語\n",
      "1 376 000+ 記事\n",
      "\n",
      "\n",
      "Español\n",
      "1 869 000+ artículos\n",
      "\n",
      "\n",
      "Русский\n",
      "1 921 000+ статей\n",
      "\n",
      "\n",
      "Deutsch\n",
      "2 808 000+ Artikel\n",
      "\n",
      "\n",
      "Français\n",
      "2 528 000+ articles\n",
      "\n",
      "\n",
      "Italiano\n",
      "1 814 000+ voci\n",
      "\n",
      "\n",
      "中文\n",
      "1 360 000+ 条目 / 條目\n",
      "\n",
      "\n",
      "فارسی\n",
      "965 000+ مقاله\n",
      "\n",
      "\n",
      "Português\n",
      "1 103 000+ artigos\n",
      "\n"
     ]
    }
   ],
   "source": [
    "# your code here\n",
    "\n",
    "nameList = parsed_html.findAll('a', {'class' : 'link-box'})\n",
    "nameList\n",
    "\n",
    "for name in nameList:\n",
    "    print(name.get_text())"
   ]
  },
  {
   "cell_type": "markdown",
   "metadata": {},
   "source": [
    "#### A list with the different kind of datasets available in data.gov.uk."
   ]
  },
  {
   "cell_type": "code",
   "execution_count": 42,
   "metadata": {},
   "outputs": [],
   "source": [
    "# This is the url you will scrape in this exercise\n",
    "url = 'https://data.gov.uk/'\n",
    "headers = {'user-agent': 'Mozilla/5.0 (Windows NT 6.1; Win64; x64; rv:47.0) Gecko/20100101 Firefox/47.0'}\n",
    "response = requests.get(url,\n",
    "                        headers=headers,\n",
    "                        timeout=5)\n",
    "\n",
    "html = response.content\n",
    "parsed_html = bs4.BeautifulSoup(html, \"lxml\") \n",
    "#print(parsed_html.prettify())"
   ]
  },
  {
   "cell_type": "code",
   "execution_count": 43,
   "metadata": {},
   "outputs": [
    {
     "data": {
      "text/html": [
       "<div>\n",
       "<style scoped>\n",
       "    .dataframe tbody tr th:only-of-type {\n",
       "        vertical-align: middle;\n",
       "    }\n",
       "\n",
       "    .dataframe tbody tr th {\n",
       "        vertical-align: top;\n",
       "    }\n",
       "\n",
       "    .dataframe thead th {\n",
       "        text-align: right;\n",
       "    }\n",
       "</style>\n",
       "<table border=\"1\" class=\"dataframe\">\n",
       "  <thead>\n",
       "    <tr style=\"text-align: right;\">\n",
       "      <th></th>\n",
       "      <th>Available Datasets</th>\n",
       "      <th>Specifics</th>\n",
       "    </tr>\n",
       "  </thead>\n",
       "  <tbody>\n",
       "    <tr>\n",
       "      <th>0</th>\n",
       "      <td>Business and economy</td>\n",
       "      <td>Small businesses, industry, imports, exports a...</td>\n",
       "    </tr>\n",
       "    <tr>\n",
       "      <th>1</th>\n",
       "      <td>Crime and justice</td>\n",
       "      <td>Courts, police, prison, offenders, borders and...</td>\n",
       "    </tr>\n",
       "    <tr>\n",
       "      <th>2</th>\n",
       "      <td>Defence</td>\n",
       "      <td>Armed forces, health and safety, search and re...</td>\n",
       "    </tr>\n",
       "    <tr>\n",
       "      <th>3</th>\n",
       "      <td>Education</td>\n",
       "      <td>Students, training, qualifications and the Nat...</td>\n",
       "    </tr>\n",
       "    <tr>\n",
       "      <th>4</th>\n",
       "      <td>Environment</td>\n",
       "      <td>Weather, flooding, rivers, air quality, geolog...</td>\n",
       "    </tr>\n",
       "    <tr>\n",
       "      <th>5</th>\n",
       "      <td>Government</td>\n",
       "      <td>Staff numbers and pay, local councillors and d...</td>\n",
       "    </tr>\n",
       "    <tr>\n",
       "      <th>6</th>\n",
       "      <td>Government spending</td>\n",
       "      <td>Includes all payments by government department...</td>\n",
       "    </tr>\n",
       "    <tr>\n",
       "      <th>7</th>\n",
       "      <td>Health</td>\n",
       "      <td>Includes smoking, drugs, alcohol, medicine per...</td>\n",
       "    </tr>\n",
       "    <tr>\n",
       "      <th>8</th>\n",
       "      <td>Mapping</td>\n",
       "      <td>Addresses, boundaries, land ownership, aerial ...</td>\n",
       "    </tr>\n",
       "    <tr>\n",
       "      <th>9</th>\n",
       "      <td>Society</td>\n",
       "      <td>Employment, benefits, household finances, pove...</td>\n",
       "    </tr>\n",
       "    <tr>\n",
       "      <th>10</th>\n",
       "      <td>Towns and cities</td>\n",
       "      <td>Includes housing, urban planning, leisure, was...</td>\n",
       "    </tr>\n",
       "    <tr>\n",
       "      <th>11</th>\n",
       "      <td>Transport</td>\n",
       "      <td>Airports, roads, freight, electric vehicles, p...</td>\n",
       "    </tr>\n",
       "    <tr>\n",
       "      <th>12</th>\n",
       "      <td>Digital service performance</td>\n",
       "      <td>Cost, usage, completion rate, digital take-up,...</td>\n",
       "    </tr>\n",
       "    <tr>\n",
       "      <th>13</th>\n",
       "      <td>Government reference data</td>\n",
       "      <td>Trusted data that is referenced and shared acr...</td>\n",
       "    </tr>\n",
       "  </tbody>\n",
       "</table>\n",
       "</div>"
      ],
      "text/plain": [
       "             Available Datasets  \\\n",
       "0          Business and economy   \n",
       "1             Crime and justice   \n",
       "2                       Defence   \n",
       "3                     Education   \n",
       "4                   Environment   \n",
       "5                    Government   \n",
       "6           Government spending   \n",
       "7                        Health   \n",
       "8                       Mapping   \n",
       "9                       Society   \n",
       "10             Towns and cities   \n",
       "11                    Transport   \n",
       "12  Digital service performance   \n",
       "13    Government reference data   \n",
       "\n",
       "                                            Specifics  \n",
       "0   Small businesses, industry, imports, exports a...  \n",
       "1   Courts, police, prison, offenders, borders and...  \n",
       "2   Armed forces, health and safety, search and re...  \n",
       "3   Students, training, qualifications and the Nat...  \n",
       "4   Weather, flooding, rivers, air quality, geolog...  \n",
       "5   Staff numbers and pay, local councillors and d...  \n",
       "6   Includes all payments by government department...  \n",
       "7   Includes smoking, drugs, alcohol, medicine per...  \n",
       "8   Addresses, boundaries, land ownership, aerial ...  \n",
       "9   Employment, benefits, household finances, pove...  \n",
       "10  Includes housing, urban planning, leisure, was...  \n",
       "11  Airports, roads, freight, electric vehicles, p...  \n",
       "12  Cost, usage, completion rate, digital take-up,...  \n",
       "13  Trusted data that is referenced and shared acr...  "
      ]
     },
     "execution_count": 43,
     "metadata": {},
     "output_type": "execute_result"
    }
   ],
   "source": [
    "# your code here\n",
    "\n",
    "db_types = [tag.string for tag in parsed_html.find_all(\"a\",{\"class\": \"govuk-link\"})]\n",
    "db_types = db_types[4:]\n",
    "\n",
    "db_sub_types = [tag.string for tag in parsed_html.find_all(\"p\",{\"class\": \"govuk-body\"})]\n",
    "db_sub_types = db_sub_types[1:]\n",
    "\n",
    "datasets_uk = {\"Available Datasets\":db_types,\"Specifics\":db_sub_types}\n",
    "pd.DataFrame(datasets_uk)"
   ]
  },
  {
   "cell_type": "markdown",
   "metadata": {},
   "source": [
    "#### Display the top 10 languages by number of native speakers stored in a pandas dataframe."
   ]
  },
  {
   "cell_type": "code",
   "execution_count": 45,
   "metadata": {},
   "outputs": [],
   "source": [
    "# This is the url you will scrape in this exercise\n",
    "url = 'https://en.wikipedia.org/wiki/List_of_languages_by_number_of_native_speakers'\n",
    "\n",
    "headers = {'user-agent': 'Mozilla/5.0 (Windows NT 6.1; Win64; x64; rv:47.0) Gecko/20100101 Firefox/47.0'}\n",
    "response = requests.get(url,\n",
    "                        headers=headers,\n",
    "                        timeout=5)\n",
    "\n",
    "html = response.content\n",
    "parsed_html = bs4.BeautifulSoup(html, \"lxml\") \n",
    "#print(parsed_html.prettify())"
   ]
  },
  {
   "cell_type": "code",
   "execution_count": 46,
   "metadata": {},
   "outputs": [
    {
     "data": {
      "text/plain": [
       "['Mandarin Chinese',\n",
       " 'Spanish',\n",
       " 'English',\n",
       " 'Hindi',\n",
       " 'Portuguese',\n",
       " 'Bengali',\n",
       " 'Russian',\n",
       " 'Japanese',\n",
       " 'Yue Chinese',\n",
       " 'Vietnamese']"
      ]
     },
     "execution_count": 46,
     "metadata": {},
     "output_type": "execute_result"
    }
   ],
   "source": [
    "# your code here\n",
    "\n",
    "languages_attrs = [tag.attrs for tag in parsed_html.find_all(\"a\",{\"class\": \"mw-redirect\"})]\n",
    "languages_strings = [tag.string for tag in parsed_html.find_all(\"a\",{\"class\": \"mw-redirect\"})]\n",
    "\n",
    "[i for i,j in zip(languages_strings,languages_attrs) if \"ISO\" in j[\"title\"]][:10]\n"
   ]
  },
  {
   "cell_type": "markdown",
   "metadata": {},
   "source": [
    "## Bonus\n",
    "#### Scrape a certain number of tweets of a given Twitter account."
   ]
  },
  {
   "cell_type": "code",
   "execution_count": null,
   "metadata": {},
   "outputs": [],
   "source": [
    "# This is the url you will scrape in this exercise \n",
    "# You will need to add the account credentials to this url\n",
    "url = 'https://twitter.com/'"
   ]
  },
  {
   "cell_type": "code",
   "execution_count": null,
   "metadata": {},
   "outputs": [],
   "source": [
    "# your code here"
   ]
  },
  {
   "cell_type": "markdown",
   "metadata": {},
   "source": [
    "#### Display IMDB's top 250 data (movie name, initial release, director name and stars) as a pandas dataframe."
   ]
  },
  {
   "cell_type": "code",
   "execution_count": null,
   "metadata": {},
   "outputs": [],
   "source": [
    "# This is the url you will scrape in this exercise \n",
    "url = 'https://www.imdb.com/chart/top'"
   ]
  },
  {
   "cell_type": "code",
   "execution_count": null,
   "metadata": {},
   "outputs": [],
   "source": [
    "# your code here"
   ]
  },
  {
   "cell_type": "markdown",
   "metadata": {},
   "source": [
    "#### Display the movie name, year and a brief summary of the top 10 random movies (IMDB) as a pandas dataframe."
   ]
  },
  {
   "cell_type": "code",
   "execution_count": null,
   "metadata": {},
   "outputs": [],
   "source": [
    "#This is the url you will scrape in this exercise\n",
    "url = 'http://www.imdb.com/chart/top'"
   ]
  },
  {
   "cell_type": "code",
   "execution_count": null,
   "metadata": {},
   "outputs": [],
   "source": [
    "# your code here"
   ]
  },
  {
   "cell_type": "markdown",
   "metadata": {},
   "source": [
    "#### Find the live weather report (temperature, wind speed, description and weather) of a given city."
   ]
  },
  {
   "cell_type": "code",
   "execution_count": null,
   "metadata": {},
   "outputs": [],
   "source": [
    "#https://openweathermap.org/current\n",
    "city = input('Enter the city: ')\n",
    "url = 'http://api.openweathermap.org/data/2.5/weather?'+'q='+city+'&APPID=b35975e18dc93725acb092f7272cc6b8&units=metric'"
   ]
  },
  {
   "cell_type": "code",
   "execution_count": null,
   "metadata": {},
   "outputs": [],
   "source": [
    "# your code here"
   ]
  },
  {
   "cell_type": "markdown",
   "metadata": {},
   "source": [
    "#### Find the book name, price and stock availability as a pandas dataframe."
   ]
  },
  {
   "cell_type": "code",
   "execution_count": null,
   "metadata": {},
   "outputs": [],
   "source": [
    "# This is the url you will scrape in this exercise. \n",
    "# It is a fictional bookstore created to be scraped. \n",
    "url = 'http://books.toscrape.com/'"
   ]
  },
  {
   "cell_type": "code",
   "execution_count": null,
   "metadata": {},
   "outputs": [],
   "source": [
    "# your code here"
   ]
  }
 ],
 "metadata": {
  "kernelspec": {
   "display_name": "m3_env",
   "language": "python",
   "name": "m3_env"
  },
  "language_info": {
   "codemirror_mode": {
    "name": "ipython",
    "version": 3
   },
   "file_extension": ".py",
   "mimetype": "text/x-python",
   "name": "python",
   "nbconvert_exporter": "python",
   "pygments_lexer": "ipython3",
   "version": "3.11.3"
  }
 },
 "nbformat": 4,
 "nbformat_minor": 2
}
